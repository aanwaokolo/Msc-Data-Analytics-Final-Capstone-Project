{
 "cells": [
  {
   "cell_type": "code",
   "execution_count": 1,
   "id": "a47a7d4e",
   "metadata": {
    "execution": {
     "iopub.execute_input": "2025-07-17T00:04:53.644123Z",
     "iopub.status.busy": "2025-07-17T00:04:53.643682Z",
     "iopub.status.idle": "2025-07-17T00:04:56.217299Z",
     "shell.execute_reply": "2025-07-17T00:04:56.215935Z"
    },
    "papermill": {
     "duration": 2.593812,
     "end_time": "2025-07-17T00:04:56.220228",
     "exception": false,
     "start_time": "2025-07-17T00:04:53.626416",
     "status": "completed"
    },
    "tags": []
   },
   "outputs": [
    {
     "name": "stderr",
     "output_type": "stream",
     "text": [
      "/opt/conda/lib/python3.10/site-packages/scipy/__init__.py:146: UserWarning: A NumPy version >=1.16.5 and <1.23.0 is required for this version of SciPy (detected version 1.23.5\n",
      "  warnings.warn(f\"A NumPy version >={np_minversion} and <{np_maxversion}\"\n"
     ]
    }
   ],
   "source": [
    "import pandas as pd\n",
    "import numpy as np\n",
    "import random as rd\n",
    "import seaborn as sns\n",
    "import matplotlib.pyplot as plt\n",
    "\n",
    "from sklearn.linear_model import LogisticRegression\n",
    "from sklearn.svm import SVC, LinearSVC\n",
    "from sklearn.ensemble import RandomForestClassifier\n",
    "from sklearn.neighbors import KNeighborsClassifier\n",
    "from sklearn.naive_bayes import GaussianNB\n",
    "from sklearn.tree import DecisionTreeClassifier\n",
    "from sklearn.linear_model import SGDClassifier\n",
    "from sklearn.preprocessing import LabelEncoder\n",
    "from sklearn.preprocessing import MinMaxScaler"
   ]
  },
  {
   "cell_type": "markdown",
   "id": "a8bd97aa",
   "metadata": {
    "papermill": {
     "duration": 0.015597,
     "end_time": "2025-07-17T00:04:56.251778",
     "exception": false,
     "start_time": "2025-07-17T00:04:56.236181",
     "status": "completed"
    },
    "tags": []
   },
   "source": [
    "# Importing the data"
   ]
  },
  {
   "cell_type": "code",
   "execution_count": 2,
   "id": "f6eebb2a",
   "metadata": {
    "execution": {
     "iopub.execute_input": "2025-07-17T00:04:56.285618Z",
     "iopub.status.busy": "2025-07-17T00:04:56.285213Z",
     "iopub.status.idle": "2025-07-17T00:04:58.270079Z",
     "shell.execute_reply": "2025-07-17T00:04:58.268912Z"
    },
    "papermill": {
     "duration": 2.004678,
     "end_time": "2025-07-17T00:04:58.272595",
     "exception": false,
     "start_time": "2025-07-17T00:04:56.267917",
     "status": "completed"
    },
    "tags": []
   },
   "outputs": [
    {
     "data": {
      "text/html": [
       "<div>\n",
       "<style scoped>\n",
       "    .dataframe tbody tr th:only-of-type {\n",
       "        vertical-align: middle;\n",
       "    }\n",
       "\n",
       "    .dataframe tbody tr th {\n",
       "        vertical-align: top;\n",
       "    }\n",
       "\n",
       "    .dataframe thead th {\n",
       "        text-align: right;\n",
       "    }\n",
       "</style>\n",
       "<table border=\"1\" class=\"dataframe\">\n",
       "  <thead>\n",
       "    <tr style=\"text-align: right;\">\n",
       "      <th></th>\n",
       "      <th>EncounterSK</th>\n",
       "      <th>MonthCommence</th>\n",
       "      <th>DaysofWeek</th>\n",
       "      <th>TimeofArrival</th>\n",
       "      <th>TimeofDeparture</th>\n",
       "      <th>LOS</th>\n",
       "      <th>PresentingComplaint</th>\n",
       "      <th>DiagnosisDescription</th>\n",
       "      <th>ArrivalMode</th>\n",
       "      <th>TriagePriority</th>\n",
       "      <th>AgeOnArrival</th>\n",
       "      <th>Gender</th>\n",
       "      <th>Facility</th>\n",
       "      <th>Disposal</th>\n",
       "    </tr>\n",
       "  </thead>\n",
       "  <tbody>\n",
       "    <tr>\n",
       "      <th>0</th>\n",
       "      <td>42719294</td>\n",
       "      <td>2019-04-01</td>\n",
       "      <td>Monday</td>\n",
       "      <td>05:04:00</td>\n",
       "      <td>08:04:00</td>\n",
       "      <td>199.0</td>\n",
       "      <td>Back Pain</td>\n",
       "      <td>Pneumonia</td>\n",
       "      <td>Ambulance</td>\n",
       "      <td>2.0</td>\n",
       "      <td>65 to 70</td>\n",
       "      <td>Female</td>\n",
       "      <td>CRH</td>\n",
       "      <td>Admitted to Hospital</td>\n",
       "    </tr>\n",
       "    <tr>\n",
       "      <th>1</th>\n",
       "      <td>42730067</td>\n",
       "      <td>2019-04-01</td>\n",
       "      <td>Monday</td>\n",
       "      <td>12:04:00</td>\n",
       "      <td>15:04:00</td>\n",
       "      <td>166.0</td>\n",
       "      <td>Unwell Adult</td>\n",
       "      <td>Pneumonia</td>\n",
       "      <td>Other</td>\n",
       "      <td>3.0</td>\n",
       "      <td>71 to 80</td>\n",
       "      <td>Male</td>\n",
       "      <td>HRI</td>\n",
       "      <td>Discharged no follow up</td>\n",
       "    </tr>\n",
       "    <tr>\n",
       "      <th>2</th>\n",
       "      <td>42739229</td>\n",
       "      <td>2019-04-01</td>\n",
       "      <td>Monday</td>\n",
       "      <td>15:04:00</td>\n",
       "      <td>19:04:00</td>\n",
       "      <td>239.0</td>\n",
       "      <td>Sepsis</td>\n",
       "      <td>Pneumonia</td>\n",
       "      <td>Ambulance</td>\n",
       "      <td>2.0</td>\n",
       "      <td>25 to 34</td>\n",
       "      <td>Female</td>\n",
       "      <td>CRH</td>\n",
       "      <td>Discharged no follow up</td>\n",
       "    </tr>\n",
       "    <tr>\n",
       "      <th>3</th>\n",
       "      <td>42745322</td>\n",
       "      <td>2019-04-01</td>\n",
       "      <td>Monday</td>\n",
       "      <td>23:04:00</td>\n",
       "      <td>02:04:00</td>\n",
       "      <td>148.0</td>\n",
       "      <td>SOB - Adult</td>\n",
       "      <td>Asthma</td>\n",
       "      <td>Other</td>\n",
       "      <td>2.0</td>\n",
       "      <td>45 to 54</td>\n",
       "      <td>Male</td>\n",
       "      <td>CRH</td>\n",
       "      <td>Discharged no follow up</td>\n",
       "    </tr>\n",
       "    <tr>\n",
       "      <th>4</th>\n",
       "      <td>42750428</td>\n",
       "      <td>2019-04-01</td>\n",
       "      <td>Tuesday</td>\n",
       "      <td>09:04:00</td>\n",
       "      <td>13:04:00</td>\n",
       "      <td>193.0</td>\n",
       "      <td>Falls</td>\n",
       "      <td>Pneumonia</td>\n",
       "      <td>Ambulance</td>\n",
       "      <td>3.0</td>\n",
       "      <td>81 to 90</td>\n",
       "      <td>Female</td>\n",
       "      <td>HRI</td>\n",
       "      <td>Admitted to Hospital</td>\n",
       "    </tr>\n",
       "    <tr>\n",
       "      <th>...</th>\n",
       "      <td>...</td>\n",
       "      <td>...</td>\n",
       "      <td>...</td>\n",
       "      <td>...</td>\n",
       "      <td>...</td>\n",
       "      <td>...</td>\n",
       "      <td>...</td>\n",
       "      <td>...</td>\n",
       "      <td>...</td>\n",
       "      <td>...</td>\n",
       "      <td>...</td>\n",
       "      <td>...</td>\n",
       "      <td>...</td>\n",
       "      <td>...</td>\n",
       "    </tr>\n",
       "    <tr>\n",
       "      <th>6769</th>\n",
       "      <td>66755290</td>\n",
       "      <td>2023-03-01</td>\n",
       "      <td>Friday</td>\n",
       "      <td>00:03:00</td>\n",
       "      <td>08:03:00</td>\n",
       "      <td>453.0</td>\n",
       "      <td>Breathing Problems</td>\n",
       "      <td>Asthma</td>\n",
       "      <td>Other</td>\n",
       "      <td>3.0</td>\n",
       "      <td>20 to 24</td>\n",
       "      <td>Male</td>\n",
       "      <td>CRH</td>\n",
       "      <td>Discharged no follow up</td>\n",
       "    </tr>\n",
       "    <tr>\n",
       "      <th>6770</th>\n",
       "      <td>66765457</td>\n",
       "      <td>2023-03-01</td>\n",
       "      <td>Friday</td>\n",
       "      <td>12:03:00</td>\n",
       "      <td>14:03:00</td>\n",
       "      <td>85.0</td>\n",
       "      <td>Asthma</td>\n",
       "      <td>Asthma</td>\n",
       "      <td>Other</td>\n",
       "      <td>4.0</td>\n",
       "      <td>25 to 34</td>\n",
       "      <td>Male</td>\n",
       "      <td>HRI</td>\n",
       "      <td>Discharged no follow up</td>\n",
       "    </tr>\n",
       "    <tr>\n",
       "      <th>6771</th>\n",
       "      <td>66772315</td>\n",
       "      <td>2023-03-01</td>\n",
       "      <td>Friday</td>\n",
       "      <td>17:03:00</td>\n",
       "      <td>23:03:00</td>\n",
       "      <td>358.0</td>\n",
       "      <td>Chest pain</td>\n",
       "      <td>Asthma</td>\n",
       "      <td>Ambulance</td>\n",
       "      <td>3.0</td>\n",
       "      <td>55 to 64</td>\n",
       "      <td>Female</td>\n",
       "      <td>CRH</td>\n",
       "      <td>Discharged no follow up</td>\n",
       "    </tr>\n",
       "    <tr>\n",
       "      <th>6772</th>\n",
       "      <td>66772885</td>\n",
       "      <td>2023-03-01</td>\n",
       "      <td>Friday</td>\n",
       "      <td>17:03:00</td>\n",
       "      <td>00:04:00</td>\n",
       "      <td>383.0</td>\n",
       "      <td>Asthma</td>\n",
       "      <td>Asthma</td>\n",
       "      <td>Other</td>\n",
       "      <td>3.0</td>\n",
       "      <td>81 to 90</td>\n",
       "      <td>Female</td>\n",
       "      <td>HRI</td>\n",
       "      <td>Discharged no follow up</td>\n",
       "    </tr>\n",
       "    <tr>\n",
       "      <th>6773</th>\n",
       "      <td>66773170</td>\n",
       "      <td>2023-03-01</td>\n",
       "      <td>Friday</td>\n",
       "      <td>18:03:00</td>\n",
       "      <td>03:04:00</td>\n",
       "      <td>526.0</td>\n",
       "      <td>Sepsis</td>\n",
       "      <td>Pneumonia</td>\n",
       "      <td>Ambulance</td>\n",
       "      <td>2.0</td>\n",
       "      <td>71 to 80</td>\n",
       "      <td>Male</td>\n",
       "      <td>HRI</td>\n",
       "      <td>Admitted to Hospital</td>\n",
       "    </tr>\n",
       "  </tbody>\n",
       "</table>\n",
       "<p>6774 rows × 14 columns</p>\n",
       "</div>"
      ],
      "text/plain": [
       "      EncounterSK MonthCommence DaysofWeek TimeofArrival TimeofDeparture  \\\n",
       "0        42719294    2019-04-01     Monday      05:04:00        08:04:00   \n",
       "1        42730067    2019-04-01     Monday      12:04:00        15:04:00   \n",
       "2        42739229    2019-04-01     Monday      15:04:00        19:04:00   \n",
       "3        42745322    2019-04-01     Monday      23:04:00        02:04:00   \n",
       "4        42750428    2019-04-01    Tuesday      09:04:00        13:04:00   \n",
       "...           ...           ...        ...           ...             ...   \n",
       "6769     66755290    2023-03-01     Friday      00:03:00        08:03:00   \n",
       "6770     66765457    2023-03-01     Friday      12:03:00        14:03:00   \n",
       "6771     66772315    2023-03-01     Friday      17:03:00        23:03:00   \n",
       "6772     66772885    2023-03-01     Friday      17:03:00        00:04:00   \n",
       "6773     66773170    2023-03-01     Friday      18:03:00        03:04:00   \n",
       "\n",
       "        LOS PresentingComplaint DiagnosisDescription ArrivalMode  \\\n",
       "0     199.0           Back Pain            Pneumonia   Ambulance   \n",
       "1     166.0        Unwell Adult            Pneumonia       Other   \n",
       "2     239.0              Sepsis            Pneumonia   Ambulance   \n",
       "3     148.0         SOB - Adult               Asthma       Other   \n",
       "4     193.0               Falls            Pneumonia   Ambulance   \n",
       "...     ...                 ...                  ...         ...   \n",
       "6769  453.0  Breathing Problems               Asthma       Other   \n",
       "6770   85.0              Asthma               Asthma       Other   \n",
       "6771  358.0          Chest pain               Asthma   Ambulance   \n",
       "6772  383.0              Asthma               Asthma       Other   \n",
       "6773  526.0              Sepsis            Pneumonia   Ambulance   \n",
       "\n",
       "      TriagePriority AgeOnArrival  Gender Facility                 Disposal  \n",
       "0                2.0     65 to 70  Female      CRH     Admitted to Hospital  \n",
       "1                3.0     71 to 80    Male      HRI  Discharged no follow up  \n",
       "2                2.0     25 to 34  Female      CRH  Discharged no follow up  \n",
       "3                2.0     45 to 54    Male      CRH  Discharged no follow up  \n",
       "4                3.0     81 to 90  Female      HRI     Admitted to Hospital  \n",
       "...              ...          ...     ...      ...                      ...  \n",
       "6769             3.0     20 to 24    Male      CRH  Discharged no follow up  \n",
       "6770             4.0     25 to 34    Male      HRI  Discharged no follow up  \n",
       "6771             3.0     55 to 64  Female      CRH  Discharged no follow up  \n",
       "6772             3.0     81 to 90  Female      HRI  Discharged no follow up  \n",
       "6773             2.0     71 to 80    Male      HRI     Admitted to Hospital  \n",
       "\n",
       "[6774 rows x 14 columns]"
      ]
     },
     "execution_count": 2,
     "metadata": {},
     "output_type": "execute_result"
    }
   ],
   "source": [
    "resp_patients_data = pd.read_excel('/kaggle/input/respiratorypatientsdata/Respiratorypatientsdata.xlsx')\n",
    "resp_patients_data\n",
    "\n",
    "\n",
    "\n"
   ]
  },
  {
   "cell_type": "markdown",
   "id": "817dce41",
   "metadata": {
    "papermill": {
     "duration": 0.015763,
     "end_time": "2025-07-17T00:04:58.304731",
     "exception": false,
     "start_time": "2025-07-17T00:04:58.288968",
     "status": "completed"
    },
    "tags": []
   },
   "source": [
    "# DATA EXPLORATION\n"
   ]
  },
  {
   "cell_type": "code",
   "execution_count": 3,
   "id": "9871c595",
   "metadata": {
    "execution": {
     "iopub.execute_input": "2025-07-17T00:04:58.342238Z",
     "iopub.status.busy": "2025-07-17T00:04:58.341601Z",
     "iopub.status.idle": "2025-07-17T00:04:58.381576Z",
     "shell.execute_reply": "2025-07-17T00:04:58.380214Z"
    },
    "papermill": {
     "duration": 0.062137,
     "end_time": "2025-07-17T00:04:58.384033",
     "exception": false,
     "start_time": "2025-07-17T00:04:58.321896",
     "status": "completed"
    },
    "tags": []
   },
   "outputs": [
    {
     "name": "stdout",
     "output_type": "stream",
     "text": [
      "<class 'pandas.core.frame.DataFrame'>\n",
      "RangeIndex: 6774 entries, 0 to 6773\n",
      "Data columns (total 14 columns):\n",
      " #   Column                Non-Null Count  Dtype         \n",
      "---  ------                --------------  -----         \n",
      " 0   EncounterSK           6774 non-null   int64         \n",
      " 1   MonthCommence         6774 non-null   datetime64[ns]\n",
      " 2   DaysofWeek            6774 non-null   object        \n",
      " 3   TimeofArrival         6774 non-null   object        \n",
      " 4   TimeofDeparture       6773 non-null   object        \n",
      " 5   LOS                   6773 non-null   float64       \n",
      " 6   PresentingComplaint   6774 non-null   object        \n",
      " 7   DiagnosisDescription  6774 non-null   object        \n",
      " 8   ArrivalMode           6774 non-null   object        \n",
      " 9   TriagePriority        6773 non-null   float64       \n",
      " 10  AgeOnArrival          6774 non-null   object        \n",
      " 11  Gender                6774 non-null   object        \n",
      " 12  Facility              6774 non-null   object        \n",
      " 13  Disposal              6774 non-null   object        \n",
      "dtypes: datetime64[ns](1), float64(2), int64(1), object(10)\n",
      "memory usage: 741.0+ KB\n"
     ]
    }
   ],
   "source": [
    "#retrieving info about the data\n",
    "resp_patients_data.info()"
   ]
  },
  {
   "cell_type": "code",
   "execution_count": 4,
   "id": "7e1f1b57",
   "metadata": {
    "execution": {
     "iopub.execute_input": "2025-07-17T00:04:58.419337Z",
     "iopub.status.busy": "2025-07-17T00:04:58.418723Z",
     "iopub.status.idle": "2025-07-17T00:04:58.426584Z",
     "shell.execute_reply": "2025-07-17T00:04:58.425100Z"
    },
    "papermill": {
     "duration": 0.028876,
     "end_time": "2025-07-17T00:04:58.428842",
     "exception": false,
     "start_time": "2025-07-17T00:04:58.399966",
     "status": "completed"
    },
    "tags": []
   },
   "outputs": [
    {
     "data": {
      "text/plain": [
       "Index(['EncounterSK', 'MonthCommence', 'DaysofWeek', 'TimeofArrival',\n",
       "       'TimeofDeparture', 'LOS', 'PresentingComplaint', 'DiagnosisDescription',\n",
       "       'ArrivalMode', 'TriagePriority', 'AgeOnArrival', 'Gender', 'Facility',\n",
       "       'Disposal'],\n",
       "      dtype='object')"
      ]
     },
     "execution_count": 4,
     "metadata": {},
     "output_type": "execute_result"
    }
   ],
   "source": [
    "#Getting details of the columns\n",
    "resp_patients_data.columns"
   ]
  },
  {
   "cell_type": "code",
   "execution_count": 5,
   "id": "60cafc48",
   "metadata": {
    "execution": {
     "iopub.execute_input": "2025-07-17T00:04:58.462831Z",
     "iopub.status.busy": "2025-07-17T00:04:58.462449Z",
     "iopub.status.idle": "2025-07-17T00:04:58.469450Z",
     "shell.execute_reply": "2025-07-17T00:04:58.468301Z"
    },
    "papermill": {
     "duration": 0.026398,
     "end_time": "2025-07-17T00:04:58.471655",
     "exception": false,
     "start_time": "2025-07-17T00:04:58.445257",
     "status": "completed"
    },
    "tags": []
   },
   "outputs": [
    {
     "data": {
      "text/plain": [
       "(6774, 14)"
      ]
     },
     "execution_count": 5,
     "metadata": {},
     "output_type": "execute_result"
    }
   ],
   "source": [
    "# retrieving details of the shape of the data to check details of the rows and columns\n",
    "resp_patients_data.shape"
   ]
  },
  {
   "cell_type": "code",
   "execution_count": 6,
   "id": "61995225",
   "metadata": {
    "execution": {
     "iopub.execute_input": "2025-07-17T00:04:58.507138Z",
     "iopub.status.busy": "2025-07-17T00:04:58.506703Z",
     "iopub.status.idle": "2025-07-17T00:04:58.531283Z",
     "shell.execute_reply": "2025-07-17T00:04:58.530110Z"
    },
    "papermill": {
     "duration": 0.045061,
     "end_time": "2025-07-17T00:04:58.533580",
     "exception": false,
     "start_time": "2025-07-17T00:04:58.488519",
     "status": "completed"
    },
    "tags": []
   },
   "outputs": [
    {
     "data": {
      "text/html": [
       "<div>\n",
       "<style scoped>\n",
       "    .dataframe tbody tr th:only-of-type {\n",
       "        vertical-align: middle;\n",
       "    }\n",
       "\n",
       "    .dataframe tbody tr th {\n",
       "        vertical-align: top;\n",
       "    }\n",
       "\n",
       "    .dataframe thead th {\n",
       "        text-align: right;\n",
       "    }\n",
       "</style>\n",
       "<table border=\"1\" class=\"dataframe\">\n",
       "  <thead>\n",
       "    <tr style=\"text-align: right;\">\n",
       "      <th></th>\n",
       "      <th>EncounterSK</th>\n",
       "      <th>LOS</th>\n",
       "      <th>TriagePriority</th>\n",
       "    </tr>\n",
       "  </thead>\n",
       "  <tbody>\n",
       "    <tr>\n",
       "      <th>count</th>\n",
       "      <td>6.774000e+03</td>\n",
       "      <td>6773.000000</td>\n",
       "      <td>6773.000000</td>\n",
       "    </tr>\n",
       "    <tr>\n",
       "      <th>mean</th>\n",
       "      <td>5.489788e+07</td>\n",
       "      <td>275.249373</td>\n",
       "      <td>2.702052</td>\n",
       "    </tr>\n",
       "    <tr>\n",
       "      <th>std</th>\n",
       "      <td>7.100554e+06</td>\n",
       "      <td>187.662578</td>\n",
       "      <td>0.754661</td>\n",
       "    </tr>\n",
       "    <tr>\n",
       "      <th>min</th>\n",
       "      <td>4.271929e+07</td>\n",
       "      <td>5.000000</td>\n",
       "      <td>0.000000</td>\n",
       "    </tr>\n",
       "    <tr>\n",
       "      <th>25%</th>\n",
       "      <td>4.851426e+07</td>\n",
       "      <td>171.000000</td>\n",
       "      <td>2.000000</td>\n",
       "    </tr>\n",
       "    <tr>\n",
       "      <th>50%</th>\n",
       "      <td>5.515027e+07</td>\n",
       "      <td>227.000000</td>\n",
       "      <td>3.000000</td>\n",
       "    </tr>\n",
       "    <tr>\n",
       "      <th>75%</th>\n",
       "      <td>6.109558e+07</td>\n",
       "      <td>335.000000</td>\n",
       "      <td>3.000000</td>\n",
       "    </tr>\n",
       "    <tr>\n",
       "      <th>max</th>\n",
       "      <td>6.677317e+07</td>\n",
       "      <td>7279.000000</td>\n",
       "      <td>5.000000</td>\n",
       "    </tr>\n",
       "  </tbody>\n",
       "</table>\n",
       "</div>"
      ],
      "text/plain": [
       "        EncounterSK          LOS  TriagePriority\n",
       "count  6.774000e+03  6773.000000     6773.000000\n",
       "mean   5.489788e+07   275.249373        2.702052\n",
       "std    7.100554e+06   187.662578        0.754661\n",
       "min    4.271929e+07     5.000000        0.000000\n",
       "25%    4.851426e+07   171.000000        2.000000\n",
       "50%    5.515027e+07   227.000000        3.000000\n",
       "75%    6.109558e+07   335.000000        3.000000\n",
       "max    6.677317e+07  7279.000000        5.000000"
      ]
     },
     "execution_count": 6,
     "metadata": {},
     "output_type": "execute_result"
    }
   ],
   "source": [
    "#Retrieving statistical info of the numerical variables\n",
    "resp_patients_data.describe()"
   ]
  },
  {
   "cell_type": "code",
   "execution_count": 7,
   "id": "ed948b65",
   "metadata": {
    "execution": {
     "iopub.execute_input": "2025-07-17T00:04:58.568411Z",
     "iopub.status.busy": "2025-07-17T00:04:58.568038Z",
     "iopub.status.idle": "2025-07-17T00:04:58.601320Z",
     "shell.execute_reply": "2025-07-17T00:04:58.600160Z"
    },
    "papermill": {
     "duration": 0.053947,
     "end_time": "2025-07-17T00:04:58.603865",
     "exception": false,
     "start_time": "2025-07-17T00:04:58.549918",
     "status": "completed"
    },
    "tags": []
   },
   "outputs": [
    {
     "data": {
      "text/html": [
       "<div>\n",
       "<style scoped>\n",
       "    .dataframe tbody tr th:only-of-type {\n",
       "        vertical-align: middle;\n",
       "    }\n",
       "\n",
       "    .dataframe tbody tr th {\n",
       "        vertical-align: top;\n",
       "    }\n",
       "\n",
       "    .dataframe thead th {\n",
       "        text-align: right;\n",
       "    }\n",
       "</style>\n",
       "<table border=\"1\" class=\"dataframe\">\n",
       "  <thead>\n",
       "    <tr style=\"text-align: right;\">\n",
       "      <th></th>\n",
       "      <th>EncounterSK</th>\n",
       "      <th>MonthCommence</th>\n",
       "      <th>DaysofWeek</th>\n",
       "      <th>TimeofArrival</th>\n",
       "      <th>TimeofDeparture</th>\n",
       "      <th>LOS</th>\n",
       "      <th>PresentingComplaint</th>\n",
       "      <th>DiagnosisDescription</th>\n",
       "      <th>ArrivalMode</th>\n",
       "      <th>TriagePriority</th>\n",
       "      <th>AgeOnArrival</th>\n",
       "      <th>Gender</th>\n",
       "      <th>Facility</th>\n",
       "      <th>Disposal</th>\n",
       "    </tr>\n",
       "  </thead>\n",
       "  <tbody>\n",
       "    <tr>\n",
       "      <th>0</th>\n",
       "      <td>False</td>\n",
       "      <td>False</td>\n",
       "      <td>False</td>\n",
       "      <td>False</td>\n",
       "      <td>False</td>\n",
       "      <td>False</td>\n",
       "      <td>False</td>\n",
       "      <td>False</td>\n",
       "      <td>False</td>\n",
       "      <td>False</td>\n",
       "      <td>False</td>\n",
       "      <td>False</td>\n",
       "      <td>False</td>\n",
       "      <td>False</td>\n",
       "    </tr>\n",
       "    <tr>\n",
       "      <th>1</th>\n",
       "      <td>False</td>\n",
       "      <td>False</td>\n",
       "      <td>False</td>\n",
       "      <td>False</td>\n",
       "      <td>False</td>\n",
       "      <td>False</td>\n",
       "      <td>False</td>\n",
       "      <td>False</td>\n",
       "      <td>False</td>\n",
       "      <td>False</td>\n",
       "      <td>False</td>\n",
       "      <td>False</td>\n",
       "      <td>False</td>\n",
       "      <td>False</td>\n",
       "    </tr>\n",
       "    <tr>\n",
       "      <th>2</th>\n",
       "      <td>False</td>\n",
       "      <td>False</td>\n",
       "      <td>False</td>\n",
       "      <td>False</td>\n",
       "      <td>False</td>\n",
       "      <td>False</td>\n",
       "      <td>False</td>\n",
       "      <td>False</td>\n",
       "      <td>False</td>\n",
       "      <td>False</td>\n",
       "      <td>False</td>\n",
       "      <td>False</td>\n",
       "      <td>False</td>\n",
       "      <td>False</td>\n",
       "    </tr>\n",
       "    <tr>\n",
       "      <th>3</th>\n",
       "      <td>False</td>\n",
       "      <td>False</td>\n",
       "      <td>False</td>\n",
       "      <td>False</td>\n",
       "      <td>False</td>\n",
       "      <td>False</td>\n",
       "      <td>False</td>\n",
       "      <td>False</td>\n",
       "      <td>False</td>\n",
       "      <td>False</td>\n",
       "      <td>False</td>\n",
       "      <td>False</td>\n",
       "      <td>False</td>\n",
       "      <td>False</td>\n",
       "    </tr>\n",
       "    <tr>\n",
       "      <th>4</th>\n",
       "      <td>False</td>\n",
       "      <td>False</td>\n",
       "      <td>False</td>\n",
       "      <td>False</td>\n",
       "      <td>False</td>\n",
       "      <td>False</td>\n",
       "      <td>False</td>\n",
       "      <td>False</td>\n",
       "      <td>False</td>\n",
       "      <td>False</td>\n",
       "      <td>False</td>\n",
       "      <td>False</td>\n",
       "      <td>False</td>\n",
       "      <td>False</td>\n",
       "    </tr>\n",
       "    <tr>\n",
       "      <th>...</th>\n",
       "      <td>...</td>\n",
       "      <td>...</td>\n",
       "      <td>...</td>\n",
       "      <td>...</td>\n",
       "      <td>...</td>\n",
       "      <td>...</td>\n",
       "      <td>...</td>\n",
       "      <td>...</td>\n",
       "      <td>...</td>\n",
       "      <td>...</td>\n",
       "      <td>...</td>\n",
       "      <td>...</td>\n",
       "      <td>...</td>\n",
       "      <td>...</td>\n",
       "    </tr>\n",
       "    <tr>\n",
       "      <th>6769</th>\n",
       "      <td>False</td>\n",
       "      <td>False</td>\n",
       "      <td>False</td>\n",
       "      <td>False</td>\n",
       "      <td>False</td>\n",
       "      <td>False</td>\n",
       "      <td>False</td>\n",
       "      <td>False</td>\n",
       "      <td>False</td>\n",
       "      <td>False</td>\n",
       "      <td>False</td>\n",
       "      <td>False</td>\n",
       "      <td>False</td>\n",
       "      <td>False</td>\n",
       "    </tr>\n",
       "    <tr>\n",
       "      <th>6770</th>\n",
       "      <td>False</td>\n",
       "      <td>False</td>\n",
       "      <td>False</td>\n",
       "      <td>False</td>\n",
       "      <td>False</td>\n",
       "      <td>False</td>\n",
       "      <td>False</td>\n",
       "      <td>False</td>\n",
       "      <td>False</td>\n",
       "      <td>False</td>\n",
       "      <td>False</td>\n",
       "      <td>False</td>\n",
       "      <td>False</td>\n",
       "      <td>False</td>\n",
       "    </tr>\n",
       "    <tr>\n",
       "      <th>6771</th>\n",
       "      <td>False</td>\n",
       "      <td>False</td>\n",
       "      <td>False</td>\n",
       "      <td>False</td>\n",
       "      <td>False</td>\n",
       "      <td>False</td>\n",
       "      <td>False</td>\n",
       "      <td>False</td>\n",
       "      <td>False</td>\n",
       "      <td>False</td>\n",
       "      <td>False</td>\n",
       "      <td>False</td>\n",
       "      <td>False</td>\n",
       "      <td>False</td>\n",
       "    </tr>\n",
       "    <tr>\n",
       "      <th>6772</th>\n",
       "      <td>False</td>\n",
       "      <td>False</td>\n",
       "      <td>False</td>\n",
       "      <td>False</td>\n",
       "      <td>False</td>\n",
       "      <td>False</td>\n",
       "      <td>False</td>\n",
       "      <td>False</td>\n",
       "      <td>False</td>\n",
       "      <td>False</td>\n",
       "      <td>False</td>\n",
       "      <td>False</td>\n",
       "      <td>False</td>\n",
       "      <td>False</td>\n",
       "    </tr>\n",
       "    <tr>\n",
       "      <th>6773</th>\n",
       "      <td>False</td>\n",
       "      <td>False</td>\n",
       "      <td>False</td>\n",
       "      <td>False</td>\n",
       "      <td>False</td>\n",
       "      <td>False</td>\n",
       "      <td>False</td>\n",
       "      <td>False</td>\n",
       "      <td>False</td>\n",
       "      <td>False</td>\n",
       "      <td>False</td>\n",
       "      <td>False</td>\n",
       "      <td>False</td>\n",
       "      <td>False</td>\n",
       "    </tr>\n",
       "  </tbody>\n",
       "</table>\n",
       "<p>6774 rows × 14 columns</p>\n",
       "</div>"
      ],
      "text/plain": [
       "      EncounterSK  MonthCommence  DaysofWeek  TimeofArrival  TimeofDeparture  \\\n",
       "0           False          False       False          False            False   \n",
       "1           False          False       False          False            False   \n",
       "2           False          False       False          False            False   \n",
       "3           False          False       False          False            False   \n",
       "4           False          False       False          False            False   \n",
       "...           ...            ...         ...            ...              ...   \n",
       "6769        False          False       False          False            False   \n",
       "6770        False          False       False          False            False   \n",
       "6771        False          False       False          False            False   \n",
       "6772        False          False       False          False            False   \n",
       "6773        False          False       False          False            False   \n",
       "\n",
       "        LOS  PresentingComplaint  DiagnosisDescription  ArrivalMode  \\\n",
       "0     False                False                 False        False   \n",
       "1     False                False                 False        False   \n",
       "2     False                False                 False        False   \n",
       "3     False                False                 False        False   \n",
       "4     False                False                 False        False   \n",
       "...     ...                  ...                   ...          ...   \n",
       "6769  False                False                 False        False   \n",
       "6770  False                False                 False        False   \n",
       "6771  False                False                 False        False   \n",
       "6772  False                False                 False        False   \n",
       "6773  False                False                 False        False   \n",
       "\n",
       "      TriagePriority  AgeOnArrival  Gender  Facility  Disposal  \n",
       "0              False         False   False     False     False  \n",
       "1              False         False   False     False     False  \n",
       "2              False         False   False     False     False  \n",
       "3              False         False   False     False     False  \n",
       "4              False         False   False     False     False  \n",
       "...              ...           ...     ...       ...       ...  \n",
       "6769           False         False   False     False     False  \n",
       "6770           False         False   False     False     False  \n",
       "6771           False         False   False     False     False  \n",
       "6772           False         False   False     False     False  \n",
       "6773           False         False   False     False     False  \n",
       "\n",
       "[6774 rows x 14 columns]"
      ]
     },
     "execution_count": 7,
     "metadata": {},
     "output_type": "execute_result"
    }
   ],
   "source": [
    "resp_patients_data.isnull()"
   ]
  },
  {
   "cell_type": "markdown",
   "id": "260d4a78",
   "metadata": {
    "papermill": {
     "duration": 0.016912,
     "end_time": "2025-07-17T00:04:58.637519",
     "exception": false,
     "start_time": "2025-07-17T00:04:58.620607",
     "status": "completed"
    },
    "tags": []
   },
   "source": [
    "# checking the number of missing values"
   ]
  },
  {
   "cell_type": "code",
   "execution_count": 8,
   "id": "7b10196c",
   "metadata": {
    "execution": {
     "iopub.execute_input": "2025-07-17T00:04:58.674635Z",
     "iopub.status.busy": "2025-07-17T00:04:58.674038Z",
     "iopub.status.idle": "2025-07-17T00:04:58.698479Z",
     "shell.execute_reply": "2025-07-17T00:04:58.697203Z"
    },
    "papermill": {
     "duration": 0.046328,
     "end_time": "2025-07-17T00:04:58.700934",
     "exception": false,
     "start_time": "2025-07-17T00:04:58.654606",
     "status": "completed"
    },
    "tags": []
   },
   "outputs": [
    {
     "data": {
      "text/plain": [
       "EncounterSK             0\n",
       "MonthCommence           0\n",
       "DaysofWeek              0\n",
       "TimeofArrival           0\n",
       "TimeofDeparture         1\n",
       "LOS                     1\n",
       "PresentingComplaint     0\n",
       "DiagnosisDescription    0\n",
       "ArrivalMode             0\n",
       "TriagePriority          1\n",
       "AgeOnArrival            0\n",
       "Gender                  0\n",
       "Facility                0\n",
       "Disposal                0\n",
       "dtype: int64"
      ]
     },
     "execution_count": 8,
     "metadata": {},
     "output_type": "execute_result"
    }
   ],
   "source": [
    "resp_patients_data.isnull().sum()"
   ]
  },
  {
   "cell_type": "markdown",
   "id": "f28b7c33",
   "metadata": {
    "papermill": {
     "duration": 0.017034,
     "end_time": "2025-07-17T00:04:58.735482",
     "exception": false,
     "start_time": "2025-07-17T00:04:58.718448",
     "status": "completed"
    },
    "tags": []
   },
   "source": [
    "# DATA PREPROCESSING"
   ]
  },
  {
   "cell_type": "markdown",
   "id": "fc03e37d",
   "metadata": {
    "papermill": {
     "duration": 0.016874,
     "end_time": "2025-07-17T00:04:58.769500",
     "exception": false,
     "start_time": "2025-07-17T00:04:58.752626",
     "status": "completed"
    },
    "tags": []
   },
   "source": [
    "# dropping missing values"
   ]
  },
  {
   "cell_type": "code",
   "execution_count": 9,
   "id": "c8cc4602",
   "metadata": {
    "execution": {
     "iopub.execute_input": "2025-07-17T00:04:58.805847Z",
     "iopub.status.busy": "2025-07-17T00:04:58.805470Z",
     "iopub.status.idle": "2025-07-17T00:04:58.842347Z",
     "shell.execute_reply": "2025-07-17T00:04:58.840749Z"
    },
    "papermill": {
     "duration": 0.058246,
     "end_time": "2025-07-17T00:04:58.844964",
     "exception": false,
     "start_time": "2025-07-17T00:04:58.786718",
     "status": "completed"
    },
    "tags": []
   },
   "outputs": [
    {
     "data": {
      "text/html": [
       "<div>\n",
       "<style scoped>\n",
       "    .dataframe tbody tr th:only-of-type {\n",
       "        vertical-align: middle;\n",
       "    }\n",
       "\n",
       "    .dataframe tbody tr th {\n",
       "        vertical-align: top;\n",
       "    }\n",
       "\n",
       "    .dataframe thead th {\n",
       "        text-align: right;\n",
       "    }\n",
       "</style>\n",
       "<table border=\"1\" class=\"dataframe\">\n",
       "  <thead>\n",
       "    <tr style=\"text-align: right;\">\n",
       "      <th></th>\n",
       "      <th>EncounterSK</th>\n",
       "      <th>MonthCommence</th>\n",
       "      <th>DaysofWeek</th>\n",
       "      <th>TimeofArrival</th>\n",
       "      <th>TimeofDeparture</th>\n",
       "      <th>LOS</th>\n",
       "      <th>PresentingComplaint</th>\n",
       "      <th>DiagnosisDescription</th>\n",
       "      <th>ArrivalMode</th>\n",
       "      <th>TriagePriority</th>\n",
       "      <th>AgeOnArrival</th>\n",
       "      <th>Gender</th>\n",
       "      <th>Facility</th>\n",
       "      <th>Disposal</th>\n",
       "    </tr>\n",
       "  </thead>\n",
       "  <tbody>\n",
       "    <tr>\n",
       "      <th>0</th>\n",
       "      <td>42719294</td>\n",
       "      <td>2019-04-01</td>\n",
       "      <td>Monday</td>\n",
       "      <td>05:04:00</td>\n",
       "      <td>08:04:00</td>\n",
       "      <td>199.0</td>\n",
       "      <td>Back Pain</td>\n",
       "      <td>Pneumonia</td>\n",
       "      <td>Ambulance</td>\n",
       "      <td>2.0</td>\n",
       "      <td>65 to 70</td>\n",
       "      <td>Female</td>\n",
       "      <td>CRH</td>\n",
       "      <td>Admitted to Hospital</td>\n",
       "    </tr>\n",
       "    <tr>\n",
       "      <th>1</th>\n",
       "      <td>42730067</td>\n",
       "      <td>2019-04-01</td>\n",
       "      <td>Monday</td>\n",
       "      <td>12:04:00</td>\n",
       "      <td>15:04:00</td>\n",
       "      <td>166.0</td>\n",
       "      <td>Unwell Adult</td>\n",
       "      <td>Pneumonia</td>\n",
       "      <td>Other</td>\n",
       "      <td>3.0</td>\n",
       "      <td>71 to 80</td>\n",
       "      <td>Male</td>\n",
       "      <td>HRI</td>\n",
       "      <td>Discharged no follow up</td>\n",
       "    </tr>\n",
       "    <tr>\n",
       "      <th>2</th>\n",
       "      <td>42739229</td>\n",
       "      <td>2019-04-01</td>\n",
       "      <td>Monday</td>\n",
       "      <td>15:04:00</td>\n",
       "      <td>19:04:00</td>\n",
       "      <td>239.0</td>\n",
       "      <td>Sepsis</td>\n",
       "      <td>Pneumonia</td>\n",
       "      <td>Ambulance</td>\n",
       "      <td>2.0</td>\n",
       "      <td>25 to 34</td>\n",
       "      <td>Female</td>\n",
       "      <td>CRH</td>\n",
       "      <td>Discharged no follow up</td>\n",
       "    </tr>\n",
       "    <tr>\n",
       "      <th>3</th>\n",
       "      <td>42745322</td>\n",
       "      <td>2019-04-01</td>\n",
       "      <td>Monday</td>\n",
       "      <td>23:04:00</td>\n",
       "      <td>02:04:00</td>\n",
       "      <td>148.0</td>\n",
       "      <td>SOB - Adult</td>\n",
       "      <td>Asthma</td>\n",
       "      <td>Other</td>\n",
       "      <td>2.0</td>\n",
       "      <td>45 to 54</td>\n",
       "      <td>Male</td>\n",
       "      <td>CRH</td>\n",
       "      <td>Discharged no follow up</td>\n",
       "    </tr>\n",
       "    <tr>\n",
       "      <th>4</th>\n",
       "      <td>42750428</td>\n",
       "      <td>2019-04-01</td>\n",
       "      <td>Tuesday</td>\n",
       "      <td>09:04:00</td>\n",
       "      <td>13:04:00</td>\n",
       "      <td>193.0</td>\n",
       "      <td>Falls</td>\n",
       "      <td>Pneumonia</td>\n",
       "      <td>Ambulance</td>\n",
       "      <td>3.0</td>\n",
       "      <td>81 to 90</td>\n",
       "      <td>Female</td>\n",
       "      <td>HRI</td>\n",
       "      <td>Admitted to Hospital</td>\n",
       "    </tr>\n",
       "    <tr>\n",
       "      <th>...</th>\n",
       "      <td>...</td>\n",
       "      <td>...</td>\n",
       "      <td>...</td>\n",
       "      <td>...</td>\n",
       "      <td>...</td>\n",
       "      <td>...</td>\n",
       "      <td>...</td>\n",
       "      <td>...</td>\n",
       "      <td>...</td>\n",
       "      <td>...</td>\n",
       "      <td>...</td>\n",
       "      <td>...</td>\n",
       "      <td>...</td>\n",
       "      <td>...</td>\n",
       "    </tr>\n",
       "    <tr>\n",
       "      <th>6769</th>\n",
       "      <td>66755290</td>\n",
       "      <td>2023-03-01</td>\n",
       "      <td>Friday</td>\n",
       "      <td>00:03:00</td>\n",
       "      <td>08:03:00</td>\n",
       "      <td>453.0</td>\n",
       "      <td>Breathing Problems</td>\n",
       "      <td>Asthma</td>\n",
       "      <td>Other</td>\n",
       "      <td>3.0</td>\n",
       "      <td>20 to 24</td>\n",
       "      <td>Male</td>\n",
       "      <td>CRH</td>\n",
       "      <td>Discharged no follow up</td>\n",
       "    </tr>\n",
       "    <tr>\n",
       "      <th>6770</th>\n",
       "      <td>66765457</td>\n",
       "      <td>2023-03-01</td>\n",
       "      <td>Friday</td>\n",
       "      <td>12:03:00</td>\n",
       "      <td>14:03:00</td>\n",
       "      <td>85.0</td>\n",
       "      <td>Asthma</td>\n",
       "      <td>Asthma</td>\n",
       "      <td>Other</td>\n",
       "      <td>4.0</td>\n",
       "      <td>25 to 34</td>\n",
       "      <td>Male</td>\n",
       "      <td>HRI</td>\n",
       "      <td>Discharged no follow up</td>\n",
       "    </tr>\n",
       "    <tr>\n",
       "      <th>6771</th>\n",
       "      <td>66772315</td>\n",
       "      <td>2023-03-01</td>\n",
       "      <td>Friday</td>\n",
       "      <td>17:03:00</td>\n",
       "      <td>23:03:00</td>\n",
       "      <td>358.0</td>\n",
       "      <td>Chest pain</td>\n",
       "      <td>Asthma</td>\n",
       "      <td>Ambulance</td>\n",
       "      <td>3.0</td>\n",
       "      <td>55 to 64</td>\n",
       "      <td>Female</td>\n",
       "      <td>CRH</td>\n",
       "      <td>Discharged no follow up</td>\n",
       "    </tr>\n",
       "    <tr>\n",
       "      <th>6772</th>\n",
       "      <td>66772885</td>\n",
       "      <td>2023-03-01</td>\n",
       "      <td>Friday</td>\n",
       "      <td>17:03:00</td>\n",
       "      <td>00:04:00</td>\n",
       "      <td>383.0</td>\n",
       "      <td>Asthma</td>\n",
       "      <td>Asthma</td>\n",
       "      <td>Other</td>\n",
       "      <td>3.0</td>\n",
       "      <td>81 to 90</td>\n",
       "      <td>Female</td>\n",
       "      <td>HRI</td>\n",
       "      <td>Discharged no follow up</td>\n",
       "    </tr>\n",
       "    <tr>\n",
       "      <th>6773</th>\n",
       "      <td>66773170</td>\n",
       "      <td>2023-03-01</td>\n",
       "      <td>Friday</td>\n",
       "      <td>18:03:00</td>\n",
       "      <td>03:04:00</td>\n",
       "      <td>526.0</td>\n",
       "      <td>Sepsis</td>\n",
       "      <td>Pneumonia</td>\n",
       "      <td>Ambulance</td>\n",
       "      <td>2.0</td>\n",
       "      <td>71 to 80</td>\n",
       "      <td>Male</td>\n",
       "      <td>HRI</td>\n",
       "      <td>Admitted to Hospital</td>\n",
       "    </tr>\n",
       "  </tbody>\n",
       "</table>\n",
       "<p>6772 rows × 14 columns</p>\n",
       "</div>"
      ],
      "text/plain": [
       "      EncounterSK MonthCommence DaysofWeek TimeofArrival TimeofDeparture  \\\n",
       "0        42719294    2019-04-01     Monday      05:04:00        08:04:00   \n",
       "1        42730067    2019-04-01     Monday      12:04:00        15:04:00   \n",
       "2        42739229    2019-04-01     Monday      15:04:00        19:04:00   \n",
       "3        42745322    2019-04-01     Monday      23:04:00        02:04:00   \n",
       "4        42750428    2019-04-01    Tuesday      09:04:00        13:04:00   \n",
       "...           ...           ...        ...           ...             ...   \n",
       "6769     66755290    2023-03-01     Friday      00:03:00        08:03:00   \n",
       "6770     66765457    2023-03-01     Friday      12:03:00        14:03:00   \n",
       "6771     66772315    2023-03-01     Friday      17:03:00        23:03:00   \n",
       "6772     66772885    2023-03-01     Friday      17:03:00        00:04:00   \n",
       "6773     66773170    2023-03-01     Friday      18:03:00        03:04:00   \n",
       "\n",
       "        LOS PresentingComplaint DiagnosisDescription ArrivalMode  \\\n",
       "0     199.0           Back Pain            Pneumonia   Ambulance   \n",
       "1     166.0        Unwell Adult            Pneumonia       Other   \n",
       "2     239.0              Sepsis            Pneumonia   Ambulance   \n",
       "3     148.0         SOB - Adult               Asthma       Other   \n",
       "4     193.0               Falls            Pneumonia   Ambulance   \n",
       "...     ...                 ...                  ...         ...   \n",
       "6769  453.0  Breathing Problems               Asthma       Other   \n",
       "6770   85.0              Asthma               Asthma       Other   \n",
       "6771  358.0          Chest pain               Asthma   Ambulance   \n",
       "6772  383.0              Asthma               Asthma       Other   \n",
       "6773  526.0              Sepsis            Pneumonia   Ambulance   \n",
       "\n",
       "      TriagePriority AgeOnArrival  Gender Facility                 Disposal  \n",
       "0                2.0     65 to 70  Female      CRH     Admitted to Hospital  \n",
       "1                3.0     71 to 80    Male      HRI  Discharged no follow up  \n",
       "2                2.0     25 to 34  Female      CRH  Discharged no follow up  \n",
       "3                2.0     45 to 54    Male      CRH  Discharged no follow up  \n",
       "4                3.0     81 to 90  Female      HRI     Admitted to Hospital  \n",
       "...              ...          ...     ...      ...                      ...  \n",
       "6769             3.0     20 to 24    Male      CRH  Discharged no follow up  \n",
       "6770             4.0     25 to 34    Male      HRI  Discharged no follow up  \n",
       "6771             3.0     55 to 64  Female      CRH  Discharged no follow up  \n",
       "6772             3.0     81 to 90  Female      HRI  Discharged no follow up  \n",
       "6773             2.0     71 to 80    Male      HRI     Admitted to Hospital  \n",
       "\n",
       "[6772 rows x 14 columns]"
      ]
     },
     "execution_count": 9,
     "metadata": {},
     "output_type": "execute_result"
    }
   ],
   "source": [
    "resp_patients_data=resp_patients_data.dropna()\n",
    "resp_patients_data"
   ]
  },
  {
   "cell_type": "code",
   "execution_count": 10,
   "id": "42619ce9",
   "metadata": {
    "execution": {
     "iopub.execute_input": "2025-07-17T00:04:58.882487Z",
     "iopub.status.busy": "2025-07-17T00:04:58.882039Z",
     "iopub.status.idle": "2025-07-17T00:04:58.902458Z",
     "shell.execute_reply": "2025-07-17T00:04:58.901168Z"
    },
    "papermill": {
     "duration": 0.042075,
     "end_time": "2025-07-17T00:04:58.904937",
     "exception": false,
     "start_time": "2025-07-17T00:04:58.862862",
     "status": "completed"
    },
    "tags": []
   },
   "outputs": [
    {
     "data": {
      "text/plain": [
       "EncounterSK             0\n",
       "MonthCommence           0\n",
       "DaysofWeek              0\n",
       "TimeofArrival           0\n",
       "TimeofDeparture         0\n",
       "LOS                     0\n",
       "PresentingComplaint     0\n",
       "DiagnosisDescription    0\n",
       "ArrivalMode             0\n",
       "TriagePriority          0\n",
       "AgeOnArrival            0\n",
       "Gender                  0\n",
       "Facility                0\n",
       "Disposal                0\n",
       "dtype: int64"
      ]
     },
     "execution_count": 10,
     "metadata": {},
     "output_type": "execute_result"
    }
   ],
   "source": [
    "resp_patients_data.isnull().sum()"
   ]
  },
  {
   "cell_type": "markdown",
   "id": "3b907736",
   "metadata": {
    "papermill": {
     "duration": 0.017457,
     "end_time": "2025-07-17T00:04:58.939750",
     "exception": false,
     "start_time": "2025-07-17T00:04:58.922293",
     "status": "completed"
    },
    "tags": []
   },
   "source": [
    " # Modify column name for AgeOnArrival and Diagnosis description"
   ]
  },
  {
   "cell_type": "code",
   "execution_count": 11,
   "id": "d8ead332",
   "metadata": {
    "execution": {
     "iopub.execute_input": "2025-07-17T00:04:58.978736Z",
     "iopub.status.busy": "2025-07-17T00:04:58.978344Z",
     "iopub.status.idle": "2025-07-17T00:04:59.004346Z",
     "shell.execute_reply": "2025-07-17T00:04:59.003065Z"
    },
    "papermill": {
     "duration": 0.047617,
     "end_time": "2025-07-17T00:04:59.006997",
     "exception": false,
     "start_time": "2025-07-17T00:04:58.959380",
     "status": "completed"
    },
    "tags": []
   },
   "outputs": [
    {
     "data": {
      "text/html": [
       "<div>\n",
       "<style scoped>\n",
       "    .dataframe tbody tr th:only-of-type {\n",
       "        vertical-align: middle;\n",
       "    }\n",
       "\n",
       "    .dataframe tbody tr th {\n",
       "        vertical-align: top;\n",
       "    }\n",
       "\n",
       "    .dataframe thead th {\n",
       "        text-align: right;\n",
       "    }\n",
       "</style>\n",
       "<table border=\"1\" class=\"dataframe\">\n",
       "  <thead>\n",
       "    <tr style=\"text-align: right;\">\n",
       "      <th></th>\n",
       "      <th>EncounterSK</th>\n",
       "      <th>MonthCommence</th>\n",
       "      <th>DaysofWeek</th>\n",
       "      <th>TimeofArrival</th>\n",
       "      <th>TimeofDeparture</th>\n",
       "      <th>LOS</th>\n",
       "      <th>PresentingComplaint</th>\n",
       "      <th>Diagnosis</th>\n",
       "      <th>ArrivalMode</th>\n",
       "      <th>TriagePriority</th>\n",
       "      <th>AgeGroup</th>\n",
       "      <th>Gender</th>\n",
       "      <th>Facility</th>\n",
       "      <th>Disposal</th>\n",
       "    </tr>\n",
       "  </thead>\n",
       "  <tbody>\n",
       "    <tr>\n",
       "      <th>0</th>\n",
       "      <td>42719294</td>\n",
       "      <td>2019-04-01</td>\n",
       "      <td>Monday</td>\n",
       "      <td>05:04:00</td>\n",
       "      <td>08:04:00</td>\n",
       "      <td>199.0</td>\n",
       "      <td>Back Pain</td>\n",
       "      <td>Pneumonia</td>\n",
       "      <td>Ambulance</td>\n",
       "      <td>2.0</td>\n",
       "      <td>65 to 70</td>\n",
       "      <td>Female</td>\n",
       "      <td>CRH</td>\n",
       "      <td>Admitted to Hospital</td>\n",
       "    </tr>\n",
       "    <tr>\n",
       "      <th>1</th>\n",
       "      <td>42730067</td>\n",
       "      <td>2019-04-01</td>\n",
       "      <td>Monday</td>\n",
       "      <td>12:04:00</td>\n",
       "      <td>15:04:00</td>\n",
       "      <td>166.0</td>\n",
       "      <td>Unwell Adult</td>\n",
       "      <td>Pneumonia</td>\n",
       "      <td>Other</td>\n",
       "      <td>3.0</td>\n",
       "      <td>71 to 80</td>\n",
       "      <td>Male</td>\n",
       "      <td>HRI</td>\n",
       "      <td>Discharged no follow up</td>\n",
       "    </tr>\n",
       "    <tr>\n",
       "      <th>2</th>\n",
       "      <td>42739229</td>\n",
       "      <td>2019-04-01</td>\n",
       "      <td>Monday</td>\n",
       "      <td>15:04:00</td>\n",
       "      <td>19:04:00</td>\n",
       "      <td>239.0</td>\n",
       "      <td>Sepsis</td>\n",
       "      <td>Pneumonia</td>\n",
       "      <td>Ambulance</td>\n",
       "      <td>2.0</td>\n",
       "      <td>25 to 34</td>\n",
       "      <td>Female</td>\n",
       "      <td>CRH</td>\n",
       "      <td>Discharged no follow up</td>\n",
       "    </tr>\n",
       "    <tr>\n",
       "      <th>3</th>\n",
       "      <td>42745322</td>\n",
       "      <td>2019-04-01</td>\n",
       "      <td>Monday</td>\n",
       "      <td>23:04:00</td>\n",
       "      <td>02:04:00</td>\n",
       "      <td>148.0</td>\n",
       "      <td>SOB - Adult</td>\n",
       "      <td>Asthma</td>\n",
       "      <td>Other</td>\n",
       "      <td>2.0</td>\n",
       "      <td>45 to 54</td>\n",
       "      <td>Male</td>\n",
       "      <td>CRH</td>\n",
       "      <td>Discharged no follow up</td>\n",
       "    </tr>\n",
       "    <tr>\n",
       "      <th>4</th>\n",
       "      <td>42750428</td>\n",
       "      <td>2019-04-01</td>\n",
       "      <td>Tuesday</td>\n",
       "      <td>09:04:00</td>\n",
       "      <td>13:04:00</td>\n",
       "      <td>193.0</td>\n",
       "      <td>Falls</td>\n",
       "      <td>Pneumonia</td>\n",
       "      <td>Ambulance</td>\n",
       "      <td>3.0</td>\n",
       "      <td>81 to 90</td>\n",
       "      <td>Female</td>\n",
       "      <td>HRI</td>\n",
       "      <td>Admitted to Hospital</td>\n",
       "    </tr>\n",
       "    <tr>\n",
       "      <th>...</th>\n",
       "      <td>...</td>\n",
       "      <td>...</td>\n",
       "      <td>...</td>\n",
       "      <td>...</td>\n",
       "      <td>...</td>\n",
       "      <td>...</td>\n",
       "      <td>...</td>\n",
       "      <td>...</td>\n",
       "      <td>...</td>\n",
       "      <td>...</td>\n",
       "      <td>...</td>\n",
       "      <td>...</td>\n",
       "      <td>...</td>\n",
       "      <td>...</td>\n",
       "    </tr>\n",
       "    <tr>\n",
       "      <th>6769</th>\n",
       "      <td>66755290</td>\n",
       "      <td>2023-03-01</td>\n",
       "      <td>Friday</td>\n",
       "      <td>00:03:00</td>\n",
       "      <td>08:03:00</td>\n",
       "      <td>453.0</td>\n",
       "      <td>Breathing Problems</td>\n",
       "      <td>Asthma</td>\n",
       "      <td>Other</td>\n",
       "      <td>3.0</td>\n",
       "      <td>20 to 24</td>\n",
       "      <td>Male</td>\n",
       "      <td>CRH</td>\n",
       "      <td>Discharged no follow up</td>\n",
       "    </tr>\n",
       "    <tr>\n",
       "      <th>6770</th>\n",
       "      <td>66765457</td>\n",
       "      <td>2023-03-01</td>\n",
       "      <td>Friday</td>\n",
       "      <td>12:03:00</td>\n",
       "      <td>14:03:00</td>\n",
       "      <td>85.0</td>\n",
       "      <td>Asthma</td>\n",
       "      <td>Asthma</td>\n",
       "      <td>Other</td>\n",
       "      <td>4.0</td>\n",
       "      <td>25 to 34</td>\n",
       "      <td>Male</td>\n",
       "      <td>HRI</td>\n",
       "      <td>Discharged no follow up</td>\n",
       "    </tr>\n",
       "    <tr>\n",
       "      <th>6771</th>\n",
       "      <td>66772315</td>\n",
       "      <td>2023-03-01</td>\n",
       "      <td>Friday</td>\n",
       "      <td>17:03:00</td>\n",
       "      <td>23:03:00</td>\n",
       "      <td>358.0</td>\n",
       "      <td>Chest pain</td>\n",
       "      <td>Asthma</td>\n",
       "      <td>Ambulance</td>\n",
       "      <td>3.0</td>\n",
       "      <td>55 to 64</td>\n",
       "      <td>Female</td>\n",
       "      <td>CRH</td>\n",
       "      <td>Discharged no follow up</td>\n",
       "    </tr>\n",
       "    <tr>\n",
       "      <th>6772</th>\n",
       "      <td>66772885</td>\n",
       "      <td>2023-03-01</td>\n",
       "      <td>Friday</td>\n",
       "      <td>17:03:00</td>\n",
       "      <td>00:04:00</td>\n",
       "      <td>383.0</td>\n",
       "      <td>Asthma</td>\n",
       "      <td>Asthma</td>\n",
       "      <td>Other</td>\n",
       "      <td>3.0</td>\n",
       "      <td>81 to 90</td>\n",
       "      <td>Female</td>\n",
       "      <td>HRI</td>\n",
       "      <td>Discharged no follow up</td>\n",
       "    </tr>\n",
       "    <tr>\n",
       "      <th>6773</th>\n",
       "      <td>66773170</td>\n",
       "      <td>2023-03-01</td>\n",
       "      <td>Friday</td>\n",
       "      <td>18:03:00</td>\n",
       "      <td>03:04:00</td>\n",
       "      <td>526.0</td>\n",
       "      <td>Sepsis</td>\n",
       "      <td>Pneumonia</td>\n",
       "      <td>Ambulance</td>\n",
       "      <td>2.0</td>\n",
       "      <td>71 to 80</td>\n",
       "      <td>Male</td>\n",
       "      <td>HRI</td>\n",
       "      <td>Admitted to Hospital</td>\n",
       "    </tr>\n",
       "  </tbody>\n",
       "</table>\n",
       "<p>6772 rows × 14 columns</p>\n",
       "</div>"
      ],
      "text/plain": [
       "      EncounterSK MonthCommence DaysofWeek TimeofArrival TimeofDeparture  \\\n",
       "0        42719294    2019-04-01     Monday      05:04:00        08:04:00   \n",
       "1        42730067    2019-04-01     Monday      12:04:00        15:04:00   \n",
       "2        42739229    2019-04-01     Monday      15:04:00        19:04:00   \n",
       "3        42745322    2019-04-01     Monday      23:04:00        02:04:00   \n",
       "4        42750428    2019-04-01    Tuesday      09:04:00        13:04:00   \n",
       "...           ...           ...        ...           ...             ...   \n",
       "6769     66755290    2023-03-01     Friday      00:03:00        08:03:00   \n",
       "6770     66765457    2023-03-01     Friday      12:03:00        14:03:00   \n",
       "6771     66772315    2023-03-01     Friday      17:03:00        23:03:00   \n",
       "6772     66772885    2023-03-01     Friday      17:03:00        00:04:00   \n",
       "6773     66773170    2023-03-01     Friday      18:03:00        03:04:00   \n",
       "\n",
       "        LOS PresentingComplaint  Diagnosis ArrivalMode  TriagePriority  \\\n",
       "0     199.0           Back Pain  Pneumonia   Ambulance             2.0   \n",
       "1     166.0        Unwell Adult  Pneumonia       Other             3.0   \n",
       "2     239.0              Sepsis  Pneumonia   Ambulance             2.0   \n",
       "3     148.0         SOB - Adult     Asthma       Other             2.0   \n",
       "4     193.0               Falls  Pneumonia   Ambulance             3.0   \n",
       "...     ...                 ...        ...         ...             ...   \n",
       "6769  453.0  Breathing Problems     Asthma       Other             3.0   \n",
       "6770   85.0              Asthma     Asthma       Other             4.0   \n",
       "6771  358.0          Chest pain     Asthma   Ambulance             3.0   \n",
       "6772  383.0              Asthma     Asthma       Other             3.0   \n",
       "6773  526.0              Sepsis  Pneumonia   Ambulance             2.0   \n",
       "\n",
       "      AgeGroup  Gender Facility                 Disposal  \n",
       "0     65 to 70  Female      CRH     Admitted to Hospital  \n",
       "1     71 to 80    Male      HRI  Discharged no follow up  \n",
       "2     25 to 34  Female      CRH  Discharged no follow up  \n",
       "3     45 to 54    Male      CRH  Discharged no follow up  \n",
       "4     81 to 90  Female      HRI     Admitted to Hospital  \n",
       "...        ...     ...      ...                      ...  \n",
       "6769  20 to 24    Male      CRH  Discharged no follow up  \n",
       "6770  25 to 34    Male      HRI  Discharged no follow up  \n",
       "6771  55 to 64  Female      CRH  Discharged no follow up  \n",
       "6772  81 to 90  Female      HRI  Discharged no follow up  \n",
       "6773  71 to 80    Male      HRI     Admitted to Hospital  \n",
       "\n",
       "[6772 rows x 14 columns]"
      ]
     },
     "execution_count": 11,
     "metadata": {},
     "output_type": "execute_result"
    }
   ],
   "source": [
    "#Modify column name for AgeOnArrival and Diagnosis description\n",
    "resp_patients_data = resp_patients_data.rename(columns={\"AgeOnArrival\": \"AgeGroup\", \"DiagnosisDescription\": \"Diagnosis\"})\n",
    "resp_patients_data"
   ]
  },
  {
   "cell_type": "code",
   "execution_count": 12,
   "id": "8f2e93eb",
   "metadata": {
    "execution": {
     "iopub.execute_input": "2025-07-17T00:04:59.045892Z",
     "iopub.status.busy": "2025-07-17T00:04:59.045492Z",
     "iopub.status.idle": "2025-07-17T00:04:59.063458Z",
     "shell.execute_reply": "2025-07-17T00:04:59.061972Z"
    },
    "papermill": {
     "duration": 0.039496,
     "end_time": "2025-07-17T00:04:59.065961",
     "exception": false,
     "start_time": "2025-07-17T00:04:59.026465",
     "status": "completed"
    },
    "tags": []
   },
   "outputs": [
    {
     "name": "stdout",
     "output_type": "stream",
     "text": [
      "      EncounterSK MonthCommence DaysofWeek TimeofArrival TimeofDeparture  \\\n",
      "0        42719294    2019-04-01     Monday      05:04:00        08:04:00   \n",
      "1        42730067    2019-04-01     Monday      12:04:00        15:04:00   \n",
      "2        42739229    2019-04-01     Monday      15:04:00        19:04:00   \n",
      "3        42745322    2019-04-01     Monday      23:04:00        02:04:00   \n",
      "4        42750428    2019-04-01    Tuesday      09:04:00        13:04:00   \n",
      "...           ...           ...        ...           ...             ...   \n",
      "6769     66755290    2023-03-01     Friday      00:03:00        08:03:00   \n",
      "6770     66765457    2023-03-01     Friday      12:03:00        14:03:00   \n",
      "6771     66772315    2023-03-01     Friday      17:03:00        23:03:00   \n",
      "6772     66772885    2023-03-01     Friday      17:03:00        00:04:00   \n",
      "6773     66773170    2023-03-01     Friday      18:03:00        03:04:00   \n",
      "\n",
      "        LOS PresentingComplaint  Diagnosis ArrivalMode  TriagePriority  \\\n",
      "0     199.0           Back Pain  Pneumonia   Ambulance             2.0   \n",
      "1     166.0        Unwell Adult  Pneumonia       Other             3.0   \n",
      "2     239.0              Sepsis  Pneumonia   Ambulance             2.0   \n",
      "3     148.0         SOB - Adult     Asthma       Other             2.0   \n",
      "4     193.0               Falls  Pneumonia   Ambulance             3.0   \n",
      "...     ...                 ...        ...         ...             ...   \n",
      "6769  453.0  Breathing Problems     Asthma       Other             3.0   \n",
      "6770   85.0              Asthma     Asthma       Other             4.0   \n",
      "6771  358.0          Chest pain     Asthma   Ambulance             3.0   \n",
      "6772  383.0              Asthma     Asthma       Other             3.0   \n",
      "6773  526.0              Sepsis  Pneumonia   Ambulance             2.0   \n",
      "\n",
      "      AgeGroup  Gender Facility                 Disposal  LOS_Hours  \n",
      "0     65 to 70  Female      CRH     Admitted to Hospital   3.316667  \n",
      "1     71 to 80    Male      HRI  Discharged no follow up   2.766667  \n",
      "2     25 to 34  Female      CRH  Discharged no follow up   3.983333  \n",
      "3     45 to 54    Male      CRH  Discharged no follow up   2.466667  \n",
      "4     81 to 90  Female      HRI     Admitted to Hospital   3.216667  \n",
      "...        ...     ...      ...                      ...        ...  \n",
      "6769  20 to 24    Male      CRH  Discharged no follow up   7.550000  \n",
      "6770  25 to 34    Male      HRI  Discharged no follow up   1.416667  \n",
      "6771  55 to 64  Female      CRH  Discharged no follow up   5.966667  \n",
      "6772  81 to 90  Female      HRI  Discharged no follow up   6.383333  \n",
      "6773  71 to 80    Male      HRI     Admitted to Hospital   8.766667  \n",
      "\n",
      "[6772 rows x 15 columns]\n"
     ]
    }
   ],
   "source": [
    "import pandas as pd\n",
    "\n",
    "# Assuming you have a DataFrame named 'df' with a column named 'los' containing values in minutes\n",
    "# Replace 'df' with the actual name of your DataFrame and 'los' with the actual name of your column\n",
    "\n",
    "# Convert minutes to hours\n",
    "resp_patients_data['LOS_Hours'] = resp_patients_data['LOS'] / 60\n",
    "\n",
    "# Drop the original 'los' column if needed\n",
    "# df.drop(columns=['los'], inplace=True)\n",
    "\n",
    "# Display the DataFrame with the new 'los_hours' column\n",
    "print(resp_patients_data)"
   ]
  },
  {
   "cell_type": "markdown",
   "id": "c1da7fee",
   "metadata": {
    "papermill": {
     "duration": 0.017468,
     "end_time": "2025-07-17T00:04:59.102542",
     "exception": false,
     "start_time": "2025-07-17T00:04:59.085074",
     "status": "completed"
    },
    "tags": []
   },
   "source": [
    "# Dropping the columns not required in the model"
   ]
  },
  {
   "cell_type": "code",
   "execution_count": 13,
   "id": "bb51913b",
   "metadata": {
    "execution": {
     "iopub.execute_input": "2025-07-17T00:04:59.139593Z",
     "iopub.status.busy": "2025-07-17T00:04:59.139252Z",
     "iopub.status.idle": "2025-07-17T00:04:59.157892Z",
     "shell.execute_reply": "2025-07-17T00:04:59.156627Z"
    },
    "papermill": {
     "duration": 0.040175,
     "end_time": "2025-07-17T00:04:59.160349",
     "exception": false,
     "start_time": "2025-07-17T00:04:59.120174",
     "status": "completed"
    },
    "tags": []
   },
   "outputs": [
    {
     "data": {
      "text/html": [
       "<div>\n",
       "<style scoped>\n",
       "    .dataframe tbody tr th:only-of-type {\n",
       "        vertical-align: middle;\n",
       "    }\n",
       "\n",
       "    .dataframe tbody tr th {\n",
       "        vertical-align: top;\n",
       "    }\n",
       "\n",
       "    .dataframe thead th {\n",
       "        text-align: right;\n",
       "    }\n",
       "</style>\n",
       "<table border=\"1\" class=\"dataframe\">\n",
       "  <thead>\n",
       "    <tr style=\"text-align: right;\">\n",
       "      <th></th>\n",
       "      <th>LOS</th>\n",
       "      <th>PresentingComplaint</th>\n",
       "      <th>Diagnosis</th>\n",
       "      <th>AgeGroup</th>\n",
       "      <th>Gender</th>\n",
       "      <th>LOS_Hours</th>\n",
       "    </tr>\n",
       "  </thead>\n",
       "  <tbody>\n",
       "    <tr>\n",
       "      <th>0</th>\n",
       "      <td>199.0</td>\n",
       "      <td>Back Pain</td>\n",
       "      <td>Pneumonia</td>\n",
       "      <td>65 to 70</td>\n",
       "      <td>Female</td>\n",
       "      <td>3.316667</td>\n",
       "    </tr>\n",
       "    <tr>\n",
       "      <th>1</th>\n",
       "      <td>166.0</td>\n",
       "      <td>Unwell Adult</td>\n",
       "      <td>Pneumonia</td>\n",
       "      <td>71 to 80</td>\n",
       "      <td>Male</td>\n",
       "      <td>2.766667</td>\n",
       "    </tr>\n",
       "    <tr>\n",
       "      <th>2</th>\n",
       "      <td>239.0</td>\n",
       "      <td>Sepsis</td>\n",
       "      <td>Pneumonia</td>\n",
       "      <td>25 to 34</td>\n",
       "      <td>Female</td>\n",
       "      <td>3.983333</td>\n",
       "    </tr>\n",
       "    <tr>\n",
       "      <th>3</th>\n",
       "      <td>148.0</td>\n",
       "      <td>SOB - Adult</td>\n",
       "      <td>Asthma</td>\n",
       "      <td>45 to 54</td>\n",
       "      <td>Male</td>\n",
       "      <td>2.466667</td>\n",
       "    </tr>\n",
       "    <tr>\n",
       "      <th>4</th>\n",
       "      <td>193.0</td>\n",
       "      <td>Falls</td>\n",
       "      <td>Pneumonia</td>\n",
       "      <td>81 to 90</td>\n",
       "      <td>Female</td>\n",
       "      <td>3.216667</td>\n",
       "    </tr>\n",
       "    <tr>\n",
       "      <th>...</th>\n",
       "      <td>...</td>\n",
       "      <td>...</td>\n",
       "      <td>...</td>\n",
       "      <td>...</td>\n",
       "      <td>...</td>\n",
       "      <td>...</td>\n",
       "    </tr>\n",
       "    <tr>\n",
       "      <th>6769</th>\n",
       "      <td>453.0</td>\n",
       "      <td>Breathing Problems</td>\n",
       "      <td>Asthma</td>\n",
       "      <td>20 to 24</td>\n",
       "      <td>Male</td>\n",
       "      <td>7.550000</td>\n",
       "    </tr>\n",
       "    <tr>\n",
       "      <th>6770</th>\n",
       "      <td>85.0</td>\n",
       "      <td>Asthma</td>\n",
       "      <td>Asthma</td>\n",
       "      <td>25 to 34</td>\n",
       "      <td>Male</td>\n",
       "      <td>1.416667</td>\n",
       "    </tr>\n",
       "    <tr>\n",
       "      <th>6771</th>\n",
       "      <td>358.0</td>\n",
       "      <td>Chest pain</td>\n",
       "      <td>Asthma</td>\n",
       "      <td>55 to 64</td>\n",
       "      <td>Female</td>\n",
       "      <td>5.966667</td>\n",
       "    </tr>\n",
       "    <tr>\n",
       "      <th>6772</th>\n",
       "      <td>383.0</td>\n",
       "      <td>Asthma</td>\n",
       "      <td>Asthma</td>\n",
       "      <td>81 to 90</td>\n",
       "      <td>Female</td>\n",
       "      <td>6.383333</td>\n",
       "    </tr>\n",
       "    <tr>\n",
       "      <th>6773</th>\n",
       "      <td>526.0</td>\n",
       "      <td>Sepsis</td>\n",
       "      <td>Pneumonia</td>\n",
       "      <td>71 to 80</td>\n",
       "      <td>Male</td>\n",
       "      <td>8.766667</td>\n",
       "    </tr>\n",
       "  </tbody>\n",
       "</table>\n",
       "<p>6772 rows × 6 columns</p>\n",
       "</div>"
      ],
      "text/plain": [
       "        LOS PresentingComplaint  Diagnosis  AgeGroup  Gender  LOS_Hours\n",
       "0     199.0           Back Pain  Pneumonia  65 to 70  Female   3.316667\n",
       "1     166.0        Unwell Adult  Pneumonia  71 to 80    Male   2.766667\n",
       "2     239.0              Sepsis  Pneumonia  25 to 34  Female   3.983333\n",
       "3     148.0         SOB - Adult     Asthma  45 to 54    Male   2.466667\n",
       "4     193.0               Falls  Pneumonia  81 to 90  Female   3.216667\n",
       "...     ...                 ...        ...       ...     ...        ...\n",
       "6769  453.0  Breathing Problems     Asthma  20 to 24    Male   7.550000\n",
       "6770   85.0              Asthma     Asthma  25 to 34    Male   1.416667\n",
       "6771  358.0          Chest pain     Asthma  55 to 64  Female   5.966667\n",
       "6772  383.0              Asthma     Asthma  81 to 90  Female   6.383333\n",
       "6773  526.0              Sepsis  Pneumonia  71 to 80    Male   8.766667\n",
       "\n",
       "[6772 rows x 6 columns]"
      ]
     },
     "execution_count": 13,
     "metadata": {},
     "output_type": "execute_result"
    }
   ],
   "source": [
    "delete_columns = ['EncounterSK','ArrivalMode', 'TriagePriority', 'Facility', 'Disposal', 'MonthCommence','DaysofWeek','TimeofArrival','TimeofDeparture']\n",
    "\n",
    "resp_patients_data = resp_patients_data.drop(delete_columns, axis=1)\n",
    "resp_patients_data"
   ]
  },
  {
   "cell_type": "code",
   "execution_count": 14,
   "id": "7197210d",
   "metadata": {
    "execution": {
     "iopub.execute_input": "2025-07-17T00:04:59.198709Z",
     "iopub.status.busy": "2025-07-17T00:04:59.198317Z",
     "iopub.status.idle": "2025-07-17T00:04:59.225085Z",
     "shell.execute_reply": "2025-07-17T00:04:59.223770Z"
    },
    "papermill": {
     "duration": 0.048764,
     "end_time": "2025-07-17T00:04:59.227611",
     "exception": false,
     "start_time": "2025-07-17T00:04:59.178847",
     "status": "completed"
    },
    "tags": []
   },
   "outputs": [
    {
     "data": {
      "text/html": [
       "<div>\n",
       "<style scoped>\n",
       "    .dataframe tbody tr th:only-of-type {\n",
       "        vertical-align: middle;\n",
       "    }\n",
       "\n",
       "    .dataframe tbody tr th {\n",
       "        vertical-align: top;\n",
       "    }\n",
       "\n",
       "    .dataframe thead th {\n",
       "        text-align: right;\n",
       "    }\n",
       "</style>\n",
       "<table border=\"1\" class=\"dataframe\">\n",
       "  <thead>\n",
       "    <tr style=\"text-align: right;\">\n",
       "      <th></th>\n",
       "      <th>LOS</th>\n",
       "      <th>PresentingComplaint</th>\n",
       "      <th>Diagnosis</th>\n",
       "      <th>AgeGroup</th>\n",
       "      <th>Gender</th>\n",
       "      <th>LOS_Hours</th>\n",
       "    </tr>\n",
       "  </thead>\n",
       "  <tbody>\n",
       "    <tr>\n",
       "      <th>0</th>\n",
       "      <td>199.0</td>\n",
       "      <td>Back Pain</td>\n",
       "      <td>Pneumonia</td>\n",
       "      <td>65 to 70</td>\n",
       "      <td>Female</td>\n",
       "      <td>3.316667</td>\n",
       "    </tr>\n",
       "    <tr>\n",
       "      <th>1</th>\n",
       "      <td>166.0</td>\n",
       "      <td>Unwell Adult</td>\n",
       "      <td>Pneumonia</td>\n",
       "      <td>71 to 80</td>\n",
       "      <td>Male</td>\n",
       "      <td>2.766667</td>\n",
       "    </tr>\n",
       "    <tr>\n",
       "      <th>2</th>\n",
       "      <td>239.0</td>\n",
       "      <td>Sepsis</td>\n",
       "      <td>Pneumonia</td>\n",
       "      <td>25 to 34</td>\n",
       "      <td>Female</td>\n",
       "      <td>3.983333</td>\n",
       "    </tr>\n",
       "    <tr>\n",
       "      <th>3</th>\n",
       "      <td>148.0</td>\n",
       "      <td>SOB - Adult</td>\n",
       "      <td>Asthma</td>\n",
       "      <td>45 to 54</td>\n",
       "      <td>Male</td>\n",
       "      <td>2.466667</td>\n",
       "    </tr>\n",
       "    <tr>\n",
       "      <th>4</th>\n",
       "      <td>193.0</td>\n",
       "      <td>Falls</td>\n",
       "      <td>Pneumonia</td>\n",
       "      <td>81 to 90</td>\n",
       "      <td>Female</td>\n",
       "      <td>3.216667</td>\n",
       "    </tr>\n",
       "    <tr>\n",
       "      <th>...</th>\n",
       "      <td>...</td>\n",
       "      <td>...</td>\n",
       "      <td>...</td>\n",
       "      <td>...</td>\n",
       "      <td>...</td>\n",
       "      <td>...</td>\n",
       "    </tr>\n",
       "    <tr>\n",
       "      <th>6769</th>\n",
       "      <td>453.0</td>\n",
       "      <td>Breathing Problems</td>\n",
       "      <td>Asthma</td>\n",
       "      <td>20 to 24</td>\n",
       "      <td>Male</td>\n",
       "      <td>7.550000</td>\n",
       "    </tr>\n",
       "    <tr>\n",
       "      <th>6770</th>\n",
       "      <td>85.0</td>\n",
       "      <td>Asthma</td>\n",
       "      <td>Asthma</td>\n",
       "      <td>25 to 34</td>\n",
       "      <td>Male</td>\n",
       "      <td>1.416667</td>\n",
       "    </tr>\n",
       "    <tr>\n",
       "      <th>6771</th>\n",
       "      <td>358.0</td>\n",
       "      <td>Chest pain</td>\n",
       "      <td>Asthma</td>\n",
       "      <td>55 to 64</td>\n",
       "      <td>Female</td>\n",
       "      <td>5.966667</td>\n",
       "    </tr>\n",
       "    <tr>\n",
       "      <th>6772</th>\n",
       "      <td>383.0</td>\n",
       "      <td>Asthma</td>\n",
       "      <td>Asthma</td>\n",
       "      <td>81 to 90</td>\n",
       "      <td>Female</td>\n",
       "      <td>6.383333</td>\n",
       "    </tr>\n",
       "    <tr>\n",
       "      <th>6773</th>\n",
       "      <td>526.0</td>\n",
       "      <td>Sepsis</td>\n",
       "      <td>Pneumonia</td>\n",
       "      <td>71 to 80</td>\n",
       "      <td>Male</td>\n",
       "      <td>8.766667</td>\n",
       "    </tr>\n",
       "  </tbody>\n",
       "</table>\n",
       "<p>6186 rows × 6 columns</p>\n",
       "</div>"
      ],
      "text/plain": [
       "        LOS PresentingComplaint  Diagnosis  AgeGroup  Gender  LOS_Hours\n",
       "0     199.0           Back Pain  Pneumonia  65 to 70  Female   3.316667\n",
       "1     166.0        Unwell Adult  Pneumonia  71 to 80    Male   2.766667\n",
       "2     239.0              Sepsis  Pneumonia  25 to 34  Female   3.983333\n",
       "3     148.0         SOB - Adult     Asthma  45 to 54    Male   2.466667\n",
       "4     193.0               Falls  Pneumonia  81 to 90  Female   3.216667\n",
       "...     ...                 ...        ...       ...     ...        ...\n",
       "6769  453.0  Breathing Problems     Asthma  20 to 24    Male   7.550000\n",
       "6770   85.0              Asthma     Asthma  25 to 34    Male   1.416667\n",
       "6771  358.0          Chest pain     Asthma  55 to 64  Female   5.966667\n",
       "6772  383.0              Asthma     Asthma  81 to 90  Female   6.383333\n",
       "6773  526.0              Sepsis  Pneumonia  71 to 80    Male   8.766667\n",
       "\n",
       "[6186 rows x 6 columns]"
      ]
     },
     "execution_count": 14,
     "metadata": {},
     "output_type": "execute_result"
    }
   ],
   "source": [
    "# Filter the data to keep only the rows with Asthma and Pneumonia complaints\n",
    "resp_patients_data = resp_patients_data[(resp_patients_data['Diagnosis'].str.contains('Asthma', case=False)) | (resp_patients_data['Diagnosis'].str.contains('Pneumonia', case=False))]\n",
    "resp_patients_data"
   ]
  },
  {
   "cell_type": "code",
   "execution_count": 15,
   "id": "1b8dfe51",
   "metadata": {
    "execution": {
     "iopub.execute_input": "2025-07-17T00:04:59.268194Z",
     "iopub.status.busy": "2025-07-17T00:04:59.267778Z",
     "iopub.status.idle": "2025-07-17T00:04:59.341547Z",
     "shell.execute_reply": "2025-07-17T00:04:59.340123Z"
    },
    "papermill": {
     "duration": 0.098153,
     "end_time": "2025-07-17T00:04:59.344326",
     "exception": false,
     "start_time": "2025-07-17T00:04:59.246173",
     "status": "completed"
    },
    "tags": []
   },
   "outputs": [
    {
     "name": "stdout",
     "output_type": "stream",
     "text": [
      "Mann-Whitney U test results for Pneumonia:\n",
      "Statistic: 6584248.5\n",
      "P-value: 2.140442105710531e-153\n",
      "Mann-Whitney U test results for Asthma:\n",
      "Statistic: 2892145.0\n",
      "P-value: 1.6929647218969544e-154\n",
      "Mann-Whitney U test results for pneumonia:\n",
      "Statistic: 20428.5\n",
      "P-value: 0.6658812594168295\n",
      "Mann-Whitney U test results for asthma:\n",
      "Statistic: 28605.0\n",
      "P-value: 0.44064016625672664\n",
      "Mann-Whitney U test results for Acute exacerbation of chronic asthmatic bronchitis:\n",
      "Statistic: 4854.0\n",
      "P-value: 0.3240543036147203\n"
     ]
    }
   ],
   "source": [
    "import pandas as pd\n",
    "from scipy.stats import mannwhitneyu\n",
    "\n",
    "# Assuming you have a DataFrame named 'resp_patients_data' with columns 'LOS_Hours' and 'Diagnosis'\n",
    "# Replace 'resp_patients_data' with the actual name of your DataFrame and columns with the actual column names\n",
    "\n",
    "# Perform the Mann-Whitney U test for each diagnosis compared to all others\n",
    "diagnoses = resp_patients_data['Diagnosis'].unique()\n",
    "\n",
    "for diagnosis in diagnoses:\n",
    "    # Filter the data for the current diagnosis\n",
    "    resp_filtered = resp_patients_data[resp_patients_data['Diagnosis'] == diagnosis]\n",
    "    \n",
    "    # Separate los hours for the current diagnosis\n",
    "    los_diagnosis = resp_filtered['LOS_Hours']\n",
    "    \n",
    "    # Perform Mann-Whitney U test for the current diagnosis against all others\n",
    "    other_diagnoses = resp_patients_data[resp_patients_data['Diagnosis'] != diagnosis]['LOS_Hours']\n",
    "    statistic, p_value = mannwhitneyu(los_diagnosis, other_diagnoses)\n",
    "    \n",
    "    # Print the test results\n",
    "    print(f\"Mann-Whitney U test results for {diagnosis}:\")\n",
    "    print(\"Statistic:\", statistic)\n",
    "    print(\"P-value:\", p_value)"
   ]
  },
  {
   "cell_type": "code",
   "execution_count": 16,
   "id": "10cbede3",
   "metadata": {
    "execution": {
     "iopub.execute_input": "2025-07-17T00:04:59.383967Z",
     "iopub.status.busy": "2025-07-17T00:04:59.383602Z",
     "iopub.status.idle": "2025-07-17T00:04:59.774808Z",
     "shell.execute_reply": "2025-07-17T00:04:59.773458Z"
    },
    "papermill": {
     "duration": 0.414411,
     "end_time": "2025-07-17T00:04:59.777640",
     "exception": false,
     "start_time": "2025-07-17T00:04:59.363229",
     "status": "completed"
    },
    "tags": []
   },
   "outputs": [
    {
     "data": {
      "image/png": "[encoded data removed]",
      "text/plain": [
       "<Figure size 1000x600 with 1 Axes>"
      ]
     },
     "metadata": {},
     "output_type": "display_data"
    }
   ],
   "source": [
    "import pandas as pd\n",
    "import seaborn as sns\n",
    "import matplotlib.pyplot as plt\n",
    "from scipy.stats import mannwhitneyu\n",
    "\n",
    "# Assuming you have a DataFrame named 'resp_patients_data' with columns 'LOS_Hours' and 'Diagnosis'\n",
    "# Replace 'resp_patients_data' with the actual name of your DataFrame and columns with the actual column names\n",
    "\n",
    "# Perform the Mann-Whitney U test for each diagnosis compared to all others\n",
    "diagnoses = resp_patients_data['Diagnosis'].unique()\n",
    "p_values = []\n",
    "\n",
    "for diagnosis in diagnoses:\n",
    "    # Filter the data for the current diagnosis\n",
    "    resp_filtered = resp_patients_data[resp_patients_data['Diagnosis'] == diagnosis]\n",
    "    \n",
    "    # Separate los hours for the current diagnosis\n",
    "    los_diagnosis = resp_filtered['LOS_Hours']\n",
    "    \n",
    "    # Perform Mann-Whitney U test for the current diagnosis against all others\n",
    "    other_diagnoses = resp_patients_data[resp_patients_data['Diagnosis'] != diagnosis]['LOS_Hours']\n",
    "    statistic, p_value = mannwhitneyu(los_diagnosis, other_diagnoses)\n",
    "    \n",
    "    # Append p-value to the list\n",
    "    p_values.append(p_value)\n",
    "\n",
    "# Create a DataFrame for visualization\n",
    "p_values_df = pd.DataFrame({'Diagnosis': diagnoses, 'P-value': p_values})\n",
    "\n",
    "# Plot the results using a bar plot\n",
    "plt.figure(figsize=(10, 6))\n",
    "sns.barplot(data=p_values_df, x='Diagnosis', y='P-value', palette='coolwarm')\n",
    "plt.title('Mann-Whitney U Test P-values for Different Diagnoses')\n",
    "plt.xlabel('Diagnosis')\n",
    "plt.ylabel('P-value')\n",
    "plt.xticks(rotation=45, ha='right')\n",
    "plt.tight_layout()\n",
    "plt.show()"
   ]
  },
  {
   "cell_type": "code",
   "execution_count": 17,
   "id": "54f6baf9",
   "metadata": {
    "execution": {
     "iopub.execute_input": "2025-07-17T00:04:59.818984Z",
     "iopub.status.busy": "2025-07-17T00:04:59.818570Z",
     "iopub.status.idle": "2025-07-17T00:05:00.123953Z",
     "shell.execute_reply": "2025-07-17T00:05:00.121984Z"
    },
    "papermill": {
     "duration": 0.329864,
     "end_time": "2025-07-17T00:05:00.126676",
     "exception": false,
     "start_time": "2025-07-17T00:04:59.796812",
     "status": "completed"
    },
    "tags": []
   },
   "outputs": [
    {
     "name": "stderr",
     "output_type": "stream",
     "text": [
      "/tmp/ipykernel_20/797567491.py:10: SettingWithCopyWarning: \n",
      "A value is trying to be set on a copy of a slice from a DataFrame.\n",
      "Try using .loc[row_indexer,col_indexer] = value instead\n",
      "\n",
      "See the caveats in the documentation: https://pandas.pydata.org/pandas-docs/stable/user_guide/indexing.html#returning-a-view-versus-a-copy\n",
      "  resp_patients_data['Diagnosis'] = resp_patients_data['Diagnosis'].str.lower()\n"
     ]
    },
    {
     "data": {
      "image/png": "[encoded data removed]",
      "text/plain": [
       "<Figure size 1000x600 with 1 Axes>"
      ]
     },
     "metadata": {},
     "output_type": "display_data"
    }
   ],
   "source": [
    "import pandas as pd\n",
    "import seaborn as sns\n",
    "import matplotlib.pyplot as plt\n",
    "from scipy.stats import mannwhitneyu\n",
    "\n",
    "# Assuming you have a DataFrame named 'resp_patients_data' with columns 'LOS_Hours' and 'Diagnosis'\n",
    "# Replace 'resp_patients_data' with the actual name of your DataFrame and columns with the actual column names\n",
    "\n",
    "# Convert all diagnoses to lowercase\n",
    "resp_patients_data['Diagnosis'] = resp_patients_data['Diagnosis'].str.lower()\n",
    "\n",
    "# Perform the Mann-Whitney U test for each diagnosis compared to all others\n",
    "diagnoses = resp_patients_data['Diagnosis'].unique()\n",
    "p_values = []\n",
    "\n",
    "for diagnosis in diagnoses:\n",
    "    # Filter the data for the current diagnosis\n",
    "    resp_filtered = resp_patients_data[resp_patients_data['Diagnosis'] == diagnosis]\n",
    "    \n",
    "    # Separate los hours for the current diagnosis\n",
    "    los_diagnosis = resp_filtered['LOS_Hours']\n",
    "    \n",
    "    # Perform Mann-Whitney U test for the current diagnosis against all others\n",
    "    other_diagnoses = resp_patients_data[resp_patients_data['Diagnosis'] != diagnosis]['LOS_Hours']\n",
    "    statistic, p_value = mannwhitneyu(los_diagnosis, other_diagnoses)\n",
    "    \n",
    "    # Append p-value to the list\n",
    "    p_values.append(p_value)\n",
    "\n",
    "# Create a DataFrame for visualization\n",
    "p_values_df = pd.DataFrame({'Diagnosis': diagnoses, 'P-value': p_values})\n",
    "\n",
    "# Plot the results using a bar plot\n",
    "plt.figure(figsize=(10, 6))\n",
    "sns.barplot(data=p_values_df, x='Diagnosis', y='P-value', palette='coolwarm')\n",
    "plt.title('Mann-Whitney U Test P-values for Different Diagnoses')\n",
    "plt.xlabel('Diagnosis')\n",
    "plt.ylabel('P-value')\n",
    "plt.xticks(rotation=45, ha='right')\n",
    "plt.tight_layout()\n",
    "plt.show()"
   ]
  },
  {
   "cell_type": "code",
   "execution_count": 18,
   "id": "2cff9ca7",
   "metadata": {
    "execution": {
     "iopub.execute_input": "2025-07-17T00:05:00.174571Z",
     "iopub.status.busy": "2025-07-17T00:05:00.174164Z",
     "iopub.status.idle": "2025-07-17T00:05:00.627863Z",
     "shell.execute_reply": "2025-07-17T00:05:00.626379Z"
    },
    "papermill": {
     "duration": 0.481812,
     "end_time": "2025-07-17T00:05:00.631103",
     "exception": false,
     "start_time": "2025-07-17T00:05:00.149291",
     "status": "completed"
    },
    "tags": []
   },
   "outputs": [
    {
     "name": "stdout",
     "output_type": "stream",
     "text": [
      "Mann-Whitney U Test Results for LOS_Hours and Age Group:\n",
      "         AgeGroup       P-value\n",
      "0        65 to 70  8.630315e-14\n",
      "1        71 to 80  8.875867e-40\n",
      "2        25 to 34  3.060585e-15\n",
      "3        45 to 54  2.732674e-01\n",
      "4        81 to 90  1.672786e-53\n",
      "5        35 to 44  6.054115e-05\n",
      "6        13 to 19  3.283858e-16\n",
      "7         6 to 12  6.577870e-24\n",
      "8        55 to 64  2.314240e-04\n",
      "9        20 to 24  1.018863e-11\n",
      "10         0 to 5  1.494573e-25\n",
      "11       91 to 99  2.503858e-09\n",
      "12  100 and above  9.772008e-01\n"
     ]
    },
    {
     "data": {
      "image/png": "[encoded data removed]",
      "text/plain": [
       "<Figure size 1000x600 with 1 Axes>"
      ]
     },
     "metadata": {},
     "output_type": "display_data"
    }
   ],
   "source": [
    "import pandas as pd\n",
    "from scipy.stats import mannwhitneyu\n",
    "\n",
    "# Assuming you have a DataFrame named 'patient_data' with columns 'LOS' and 'Age_Group'\n",
    "# Replace 'patient_data' with the actual name of your DataFrame and columns with the actual column names\n",
    "\n",
    "# Perform the Mann-Whitney U test for LOS between different age groups\n",
    "age_groups = resp_patients_data['AgeGroup'].unique()\n",
    "p_values = []\n",
    "\n",
    "for age_group in age_groups:\n",
    "    # Filter the data for the current age group\n",
    "    group_data = resp_patients_data[resp_patients_data['AgeGroup'] == age_group]['LOS_Hours']\n",
    "    \n",
    "    # Perform Mann-Whitney U test for the current age group against all others\n",
    "    other_groups = resp_patients_data[resp_patients_data['AgeGroup'] != age_group]['LOS_Hours']\n",
    "    statistic, p_value = mannwhitneyu(group_data, other_groups)\n",
    "    \n",
    "    # Append p-value to the list\n",
    "    p_values.append(p_value)\n",
    "\n",
    "# Create a DataFrame for visualization\n",
    "p_values_df = pd.DataFrame({'AgeGroup': age_groups, 'P-value': p_values})\n",
    "\n",
    "# Print the results\n",
    "print(\"Mann-Whitney U Test Results for LOS_Hours and Age Group:\")\n",
    "print(p_values_df)\n",
    "\n",
    "\n",
    "\n",
    "\n",
    "# You can also visualize the results if needed\n",
    "\n",
    "\n",
    "plt.figure(figsize=(10, 6))\n",
    "sns.barplot(data=p_values_df, x='AgeGroup', y='P-value', palette='coolwarm')\n",
    "plt.title('Mann-Whitney U Test P-values for Different Age groups')\n",
    "plt.xlabel('AgeGroup')\n",
    "plt.ylabel('P-value')\n",
    "plt.xticks(rotation=45, ha='right')\n",
    "plt.tight_layout()\n",
    "plt.show()"
   ]
  },
  {
   "cell_type": "code",
   "execution_count": 19,
   "id": "2759fc95",
   "metadata": {
    "execution": {
     "iopub.execute_input": "2025-07-17T00:05:00.674948Z",
     "iopub.status.busy": "2025-07-17T00:05:00.674550Z",
     "iopub.status.idle": "2025-07-17T00:05:00.836664Z",
     "shell.execute_reply": "2025-07-17T00:05:00.834802Z"
    },
    "papermill": {
     "duration": 0.187242,
     "end_time": "2025-07-17T00:05:00.838859",
     "exception": true,
     "start_time": "2025-07-17T00:05:00.651617",
     "status": "failed"
    },
    "tags": []
   },
   "outputs": [
    {
     "ename": "AttributeError",
     "evalue": "'DataFrame' object has no attribute 'crosstab'",
     "output_type": "error",
     "traceback": [
      "\u001b[0;31m---------------------------------------------------------------------------\u001b[0m",
      "\u001b[0;31mAttributeError\u001b[0m                            Traceback (most recent call last)",
      "\u001b[0;32m/tmp/ipykernel_20/1991897385.py\u001b[0m in \u001b[0;36m?\u001b[0;34m()\u001b[0m\n\u001b[1;32m      7\u001b[0m \u001b[0;31m# Assuming you have a DataFrame named 'data' with columns 'Diagnosis' and 'Age_Group'\u001b[0m\u001b[0;34m\u001b[0m\u001b[0;34m\u001b[0m\u001b[0m\n\u001b[1;32m      8\u001b[0m \u001b[0;31m# Replace 'data' with the actual name of your DataFrame and columns with the actual column names\u001b[0m\u001b[0;34m\u001b[0m\u001b[0;34m\u001b[0m\u001b[0m\n\u001b[1;32m      9\u001b[0m \u001b[0;34m\u001b[0m\u001b[0m\n\u001b[1;32m     10\u001b[0m \u001b[0;31m# Create a contingency table\u001b[0m\u001b[0;34m\u001b[0m\u001b[0;34m\u001b[0m\u001b[0m\n\u001b[0;32m---> 11\u001b[0;31m \u001b[0mcontingency_table\u001b[0m \u001b[0;34m=\u001b[0m \u001b[0mresp_patients_data\u001b[0m\u001b[0;34m.\u001b[0m\u001b[0mcrosstab\u001b[0m\u001b[0;34m(\u001b[0m \u001b[0mresp_patients_data\u001b[0m\u001b[0;34m[\u001b[0m\u001b[0;34m'Diagnosis'\u001b[0m\u001b[0;34m]\u001b[0m\u001b[0;34m,\u001b[0m \u001b[0mdata\u001b[0m\u001b[0;34m[\u001b[0m\u001b[0;34m'Age_Group'\u001b[0m\u001b[0;34m]\u001b[0m\u001b[0;34m)\u001b[0m\u001b[0;34m\u001b[0m\u001b[0;34m\u001b[0m\u001b[0m\n\u001b[0m\u001b[1;32m     12\u001b[0m \u001b[0;34m\u001b[0m\u001b[0m\n\u001b[1;32m     13\u001b[0m \u001b[0;31m# Perform chi-square test\u001b[0m\u001b[0;34m\u001b[0m\u001b[0;34m\u001b[0m\u001b[0m\n\u001b[1;32m     14\u001b[0m \u001b[0mchi2\u001b[0m\u001b[0;34m,\u001b[0m \u001b[0mp\u001b[0m\u001b[0;34m,\u001b[0m \u001b[0mdof\u001b[0m\u001b[0;34m,\u001b[0m \u001b[0mexpected\u001b[0m \u001b[0;34m=\u001b[0m \u001b[0mchi2_contingency\u001b[0m\u001b[0;34m(\u001b[0m\u001b[0mcontingency_table\u001b[0m\u001b[0;34m)\u001b[0m\u001b[0;34m\u001b[0m\u001b[0;34m\u001b[0m\u001b[0m\n",
      "\u001b[0;32m/opt/conda/lib/python3.10/site-packages/pandas/core/generic.py\u001b[0m in \u001b[0;36m?\u001b[0;34m(self, name)\u001b[0m\n\u001b[1;32m   5898\u001b[0m             \u001b[0;32mand\u001b[0m \u001b[0mname\u001b[0m \u001b[0;32mnot\u001b[0m \u001b[0;32min\u001b[0m \u001b[0mself\u001b[0m\u001b[0;34m.\u001b[0m\u001b[0m_accessors\u001b[0m\u001b[0;34m\u001b[0m\u001b[0;34m\u001b[0m\u001b[0m\n\u001b[1;32m   5899\u001b[0m             \u001b[0;32mand\u001b[0m \u001b[0mself\u001b[0m\u001b[0;34m.\u001b[0m\u001b[0m_info_axis\u001b[0m\u001b[0;34m.\u001b[0m\u001b[0m_can_hold_identifiers_and_holds_name\u001b[0m\u001b[0;34m(\u001b[0m\u001b[0mname\u001b[0m\u001b[0;34m)\u001b[0m\u001b[0;34m\u001b[0m\u001b[0;34m\u001b[0m\u001b[0m\n\u001b[1;32m   5900\u001b[0m         ):\n\u001b[1;32m   5901\u001b[0m             \u001b[0;32mreturn\u001b[0m \u001b[0mself\u001b[0m\u001b[0;34m[\u001b[0m\u001b[0mname\u001b[0m\u001b[0;34m]\u001b[0m\u001b[0;34m\u001b[0m\u001b[0;34m\u001b[0m\u001b[0m\n\u001b[0;32m-> 5902\u001b[0;31m         \u001b[0;32mreturn\u001b[0m \u001b[0mobject\u001b[0m\u001b[0;34m.\u001b[0m\u001b[0m__getattribute__\u001b[0m\u001b[0;34m(\u001b[0m\u001b[0mself\u001b[0m\u001b[0;34m,\u001b[0m \u001b[0mname\u001b[0m\u001b[0;34m)\u001b[0m\u001b[0;34m\u001b[0m\u001b[0;34m\u001b[0m\u001b[0m\n\u001b[0m",
      "\u001b[0;31mAttributeError\u001b[0m: 'DataFrame' object has no attribute 'crosstab'"
     ]
    }
   ],
   "source": [
    "import pandas as pd\n",
    "import numpy as np\n",
    "import seaborn as sns\n",
    "from scipy.stats import chi2_contingency\n",
    "import matplotlib.pyplot as plt\n",
    "\n",
    "# Assuming you have a DataFrame named 'data' with columns 'Diagnosis' and 'Age_Group'\n",
    "# Replace 'data' with the actual name of your DataFrame and columns with the actual column names\n",
    "\n",
    "# Create a contingency table\n",
    "contingency_table = resp_patients_data.crosstab( resp_patients_data['Diagnosis'], data['Age_Group'])\n",
    "\n",
    "# Perform chi-square test\n",
    "chi2, p, dof, expected = chi2_contingency(contingency_table)\n",
    "\n",
    "# Print test results\n",
    "print(\"Chi-square statistic:\", chi2)\n",
    "print(\"P-value:\", p)\n",
    "print(\"Degrees of freedom:\", dof)\n",
    "print(\"Expected frequencies:\\n\", expected)\n",
    "\n",
    "# Visualize the contingency table\n",
    "plt.figure(figsize=(10, 6))\n",
    "sns.heatmap(contingency_table, annot=True, cmap=\"YlGnBu\")\n",
    "plt.title('Contingency Table of Diagnosis vs. Age Group')\n",
    "plt.xlabel('Age Group')\n",
    "plt.ylabel('Diagnosis')\n",
    "plt.show()"
   ]
  },
  {
   "cell_type": "code",
   "execution_count": null,
   "id": "43632a38",
   "metadata": {
    "execution": {
     "iopub.execute_input": "2024-04-13T23:22:20.502663Z",
     "iopub.status.busy": "2024-04-13T23:22:20.502170Z",
     "iopub.status.idle": "2024-04-13T23:22:20.532526Z",
     "shell.execute_reply": "2024-04-13T23:22:20.531241Z",
     "shell.execute_reply.started": "2024-04-13T23:22:20.502630Z"
    },
    "papermill": {
     "duration": null,
     "end_time": null,
     "exception": null,
     "start_time": null,
     "status": "pending"
    },
    "tags": []
   },
   "outputs": [],
   "source": [
    "from scipy.stats import ranksums\n",
    "\n",
    "# Define function to perform Wilcoxon rank-sum test for each group\n",
    "def wilcoxon_test(group1, group2):\n",
    "    statistic, p_value = ranksums(group1, group2)\n",
    "    return statistic, p_value\n",
    "\n",
    "# Perform Wilcoxon rank-sum test for Diagnosis\n",
    "statistic_diag, p_value_diag = wilcoxon_test(resp_patients_data[resp_patients_data['Diagnosis'] == 'Asthma']['LOS'], \n",
    "                                             resp_patients_data[resp_patients_data['Diagnosis'] == 'Pneumonia']['LOS'])\n",
    "print(\"Wilcoxon rank-sum test results for Diagnosis:\")\n",
    "print(\"Statistic:\", statistic_diag)\n",
    "print(\"P-value:\", p_value_diag)\n",
    "\n",
    "# Perform Wilcoxon rank-sum test for Age Group\n",
    "statistic_age, p_value_age = wilcoxon_test(resp_patients_data[resp_patients_data['AgeGroup'] == 'Under 30']['LOS'], \n",
    "                                           resp_patients_data[resp_patients_data['AgeGroup'] == 'Over 30']['LOS'])\n",
    "print(\"\\nWilcoxon rank-sum test results for Age Group:\")\n",
    "print(\"Statistic:\", statistic_age)\n",
    "print(\"P-value:\", p_value_age)\n",
    "\n",
    "# Perform Wilcoxon rank-sum test for Gender\n",
    "statistic_gender, p_value_gender = wilcoxon_test(resp_patients_data[resp_patients_data['Gender'] == 'Male']['LOS'], \n",
    "                                                 resp_patients_data[resp_patients_data['Gender'] == 'Female']['LOS'])\n",
    "print(\"\\nWilcoxon rank-sum test results for Gender:\")\n",
    "print(\"Statistic:\", statistic_gender)\n",
    "print(\"P-value:\", p_value_gender)"
   ]
  },
  {
   "cell_type": "code",
   "execution_count": null,
   "id": "109295ee",
   "metadata": {
    "execution": {
     "iopub.execute_input": "2025-07-17T00:01:39.786033Z",
     "iopub.status.busy": "2025-07-17T00:01:39.785622Z",
     "iopub.status.idle": "2025-07-17T00:01:40.085153Z",
     "shell.execute_reply": "2025-07-17T00:01:40.083610Z",
     "shell.execute_reply.started": "2025-07-17T00:01:39.786001Z"
    },
    "papermill": {
     "duration": null,
     "end_time": null,
     "exception": null,
     "start_time": null,
     "status": "pending"
    },
    "tags": []
   },
   "outputs": [],
   "source": [
    "import pandas as pd\n",
    "from scipy.stats import mannwhitneyu\n",
    "\n",
    "# Assuming you have a DataFrame named 'patient_data' with columns 'LOS' and 'Age_Group'\n",
    "# Replace 'patient_data' with the actual name of your DataFrame and columns with the actual column names\n",
    "\n",
    "# Perform the Mann-Whitney U test for LOS between different age groups\n",
    "age_groups = resp_patients_data['Gender'].unique()\n",
    "p_values = []\n",
    "\n",
    "for age_group in age_groups:\n",
    "    # Filter the data for the current age group\n",
    "    group_data = resp_patients_data[resp_patients_data['Gender'] == age_group]['LOS']\n",
    "    \n",
    "    # Perform Mann-Whitney U test for the current age group against all others\n",
    "    other_groups = resp_patients_data[resp_patients_data['Gender'] != age_group]['LOS']\n",
    "    statistic, p_value = mannwhitneyu(group_data, other_groups)\n",
    "    \n",
    "    # Append p-value to the list\n",
    "    p_values.append(p_value)\n",
    "\n",
    "# Create a DataFrame for visualization\n",
    "p_values_df = pd.DataFrame({'Gender': age_groups, 'P-value': p_values})\n",
    "\n",
    "# Print the results\n",
    "print(\"Mann-Whitney U Test Results for LOS and Gender:\")\n",
    "print(p_values_df)\n",
    "\n",
    "\n",
    "\n",
    "\n",
    "# You can also visualize the results if needed\n",
    "\n",
    "\n",
    "plt.figure(figsize=(10, 6))\n",
    "sns.barplot(data=p_values_df, x='Gender', y='P-value', palette='coolwarm')\n",
    "plt.title('Mann-Whitney U Test P-values for Different Gender')\n",
    "plt.xlabel('Gender')\n",
    "plt.ylabel('P-value')\n",
    "plt.xticks(rotation=45, ha='right')\n",
    "plt.tight_layout()\n",
    "plt.show()"
   ]
  },
  {
   "cell_type": "code",
   "execution_count": null,
   "id": "86890b70",
   "metadata": {
    "execution": {
     "iopub.execute_input": "2025-07-17T00:01:49.192769Z",
     "iopub.status.busy": "2025-07-17T00:01:49.192295Z",
     "iopub.status.idle": "2025-07-17T00:01:49.520950Z",
     "shell.execute_reply": "2025-07-17T00:01:49.519738Z",
     "shell.execute_reply.started": "2025-07-17T00:01:49.192734Z"
    },
    "papermill": {
     "duration": null,
     "end_time": null,
     "exception": null,
     "start_time": null,
     "status": "pending"
    },
    "tags": []
   },
   "outputs": [],
   "source": [
    "import pandas as pd\n",
    "from scipy.stats import kruskal\n",
    "\n",
    "# Assuming 'resp_patients_data' is your DataFrame with columns 'Diagnosis' and 'LOS'\n",
    "# Replace 'resp_patients_data' with your actual DataFrame name\n",
    "\n",
    "# Perform the Kruskal-Wallis H test\n",
    "statistic, p_value = kruskal(*[group['LOS_Hours'] for name, group in resp_patients_data.groupby('Diagnosis')])\n",
    "\n",
    "# Print the test results\n",
    "print(\"Kruskal-Wallis H test results for Diagnosis and LOS:\")\n",
    "print(\"Statistic:\", statistic)\n",
    "print(\"P-value:\", p_value)\n",
    "\n",
    "\n",
    "# Visualize the data\n",
    "plt.figure(figsize=(10, 6))\n",
    "sns.violinplot(x='Diagnosis', y='LOS_Hours', data=resp_patients_data)\n",
    "plt.title('Boxplot of Value by LOS')\n",
    "plt.xlabel('LOS_Hours')\n",
    "plt.ylabel('Diagnosis')\n",
    "plt.show()"
   ]
  },
  {
   "cell_type": "code",
   "execution_count": null,
   "id": "05fd422a",
   "metadata": {
    "execution": {
     "iopub.execute_input": "2025-07-17T00:01:53.294129Z",
     "iopub.status.busy": "2025-07-17T00:01:53.293718Z",
     "iopub.status.idle": "2025-07-17T00:01:53.553626Z",
     "shell.execute_reply": "2025-07-17T00:01:53.552264Z",
     "shell.execute_reply.started": "2025-07-17T00:01:53.294094Z"
    },
    "papermill": {
     "duration": null,
     "end_time": null,
     "exception": null,
     "start_time": null,
     "status": "pending"
    },
    "tags": []
   },
   "outputs": [],
   "source": [
    "avg_los_by_diagnosis = resp_patients_data.groupby('Diagnosis')['LOS_Hours'].mean()\n",
    "\n",
    "# Plot the bar chart\n",
    "plt.figure(figsize=(10, 6))\n",
    "plt.bar(avg_los_by_diagnosis.index, avg_los_by_diagnosis.values)\n",
    "plt.title('Average LOS by Diagnosis')\n",
    "plt.xlabel('Diagnosis')\n",
    "plt.ylabel('Average Length of Stay (LOS_Hours)')\n",
    "plt.xticks(rotation=45)  # Rotate x-axis labels for better readability\n",
    "plt.show()"
   ]
  },
  {
   "cell_type": "code",
   "execution_count": null,
   "id": "e4617980",
   "metadata": {
    "execution": {
     "iopub.execute_input": "2025-07-17T00:02:01.017763Z",
     "iopub.status.busy": "2025-07-17T00:02:01.017340Z",
     "iopub.status.idle": "2025-07-17T00:02:01.431004Z",
     "shell.execute_reply": "2025-07-17T00:02:01.428927Z",
     "shell.execute_reply.started": "2025-07-17T00:02:01.017730Z"
    },
    "papermill": {
     "duration": null,
     "end_time": null,
     "exception": null,
     "start_time": null,
     "status": "pending"
    },
    "tags": []
   },
   "outputs": [],
   "source": [
    "import pandas as pd\n",
    "import matplotlib.pyplot as plt\n",
    "\n",
    "# Assuming 'resp_patients_data' is your DataFrame with the LOS column\n",
    "# Replace 'resp_patients_data' with your actual DataFrame name and 'LOS' with the actual column name\n",
    "\n",
    "# Calculate summary statistics\n",
    "los_summary = resp_patients_data['LOS_Hours'].describe()\n",
    "\n",
    "# Print summary statistics\n",
    "print(\"Summary statistics for LOS:\")\n",
    "print(los_summary)\n",
    "\n",
    "# Visualize the distribution of LOS using a histogram\n",
    "plt.figure(figsize=(10, 6))\n",
    "plt.hist(resp_patients_data['LOS_Hours'], bins=30, color='skyblue', edgecolor='black')\n",
    "plt.title('Distribution of Length of Stay (LOS)')\n",
    "plt.xlabel('LOS (Hours)')\n",
    "plt.ylabel('Frequency')\n",
    "plt.grid(True)\n",
    "plt.show()"
   ]
  },
  {
   "cell_type": "code",
   "execution_count": null,
   "id": "79010c07",
   "metadata": {
    "execution": {
     "iopub.execute_input": "2025-07-17T00:03:05.467879Z",
     "iopub.status.busy": "2025-07-17T00:03:05.467457Z",
     "iopub.status.idle": "2025-07-17T00:03:05.482185Z",
     "shell.execute_reply": "2025-07-17T00:03:05.480736Z",
     "shell.execute_reply.started": "2025-07-17T00:03:05.467846Z"
    },
    "papermill": {
     "duration": null,
     "end_time": null,
     "exception": null,
     "start_time": null,
     "status": "pending"
    },
    "tags": []
   },
   "outputs": [],
   "source": [
    "from scipy.stats import kruskal\n",
    "\n",
    "# Assuming 'resp_patients_data' is your DataFrame with columns 'Diagnosis' and 'LOS'\n",
    "# Replace 'resp_patients_data' with your actual DataFrame name\n",
    "\n",
    "# Extract LOS values for each diagnosis category\n",
    "los_by_diagnosis = [group_data['LOS_Hours'].values for _, group_data in resp_patients_data.groupby('Diagnosis')]\n",
    "\n",
    "# Perform Kruskal-Wallis test\n",
    "statistic, p_value = kruskal(*los_by_diagnosis)\n",
    "\n",
    "# Print the test results\n",
    "print(\"Kruskal-Wallis test results:\")\n",
    "print(\"Statistic:\", statistic)\n",
    "print(\"P-value:\", p_value)"
   ]
  },
  {
   "cell_type": "code",
   "execution_count": null,
   "id": "2d6777a7",
   "metadata": {
    "execution": {
     "iopub.execute_input": "2025-07-17T00:03:14.024191Z",
     "iopub.status.busy": "2025-07-17T00:03:14.023806Z",
     "iopub.status.idle": "2025-07-17T00:03:14.455445Z",
     "shell.execute_reply": "2025-07-17T00:03:14.453538Z",
     "shell.execute_reply.started": "2025-07-17T00:03:14.024159Z"
    },
    "papermill": {
     "duration": null,
     "end_time": null,
     "exception": null,
     "start_time": null,
     "status": "pending"
    },
    "tags": []
   },
   "outputs": [],
   "source": [
    "import seaborn as sns\n",
    "import matplotlib.pyplot as plt\n",
    "\n",
    "from scipy.stats import kruskal\n",
    "\n",
    "# Assuming 'resp_patients_data' is your DataFrame with columns 'Diagnosis' and 'LOS'\n",
    "# Replace 'resp_patients_data' with your actual DataFrame name\n",
    "\n",
    "# Extract LOS values for each diagnosis category\n",
    "los_by_diagnosis = [group_data['LOS_Hours'].values for _, group_data in resp_patients_data.groupby('Diagnosis')]\n",
    "\n",
    "# Perform Kruskal-Wallis test\n",
    "statistic, p_value = kruskal(*los_by_diagnosis)\n",
    "\n",
    "# Print the test results\n",
    "print(\"Kruskal-Wallis test results:\")\n",
    "print(\"Statistic:\", statistic)\n",
    "print(\"P-value:\", p_value)\n",
    "\n",
    "# Visualize the LOS distribution for each diagnosis category using a box plot\n",
    "plt.figure(figsize=(10, 6))\n",
    "sns.barplot(x='Diagnosis', y='LOS_Hours', data=resp_patients_data)\n",
    "plt.title('LOS Distribution by Diagnosis')\n",
    "plt.xlabel('Diagnosis')\n",
    "plt.ylabel('LOS_Hours')\n",
    "\n",
    "# Adjust rotation of x-axis labels\n",
    "plt.xticks(rotation=45, ha='right')  # Rotate labels 45 degrees and align them to the right\n",
    "\n",
    "plt.show()\n",
    "\n",
    "# Compute the p-values for each diagnosis type\n",
    "p_values = resp_patients_data.groupby('Diagnosis')['P-value'].mean().reset_index()\n",
    "\n",
    "# Sort the data by p-value\n",
    "p_values = p_values.sort_values(by='P-value', ascending=False)\n",
    "\n",
    "# Plotting\n",
    "plt.figure(figsize=(10, 6))\n",
    "sns.barplot(x='P-value', y='Diagnosis', data=p_values, palette='viridis')\n",
    "plt.title('P-values for Different Diagnosis Types')\n",
    "plt.xlabel('P-value')\n",
    "plt.ylabel('Diagnosis')\n",
    "\n",
    "# Adjust rotation of x-axis labels\n",
    "plt.xticks(rotation=45, ha='right')  # Rotate labels 45 degrees and align them to the right\n",
    "\n",
    "plt.show()"
   ]
  },
  {
   "cell_type": "code",
   "execution_count": null,
   "id": "764f68e6",
   "metadata": {
    "execution": {
     "iopub.execute_input": "2025-07-17T00:02:43.248862Z",
     "iopub.status.busy": "2025-07-17T00:02:43.247626Z",
     "iopub.status.idle": "2025-07-17T00:02:44.129728Z",
     "shell.execute_reply": "2025-07-17T00:02:44.127920Z",
     "shell.execute_reply.started": "2025-07-17T00:02:43.248807Z"
    },
    "papermill": {
     "duration": null,
     "end_time": null,
     "exception": null,
     "start_time": null,
     "status": "pending"
    },
    "tags": []
   },
   "outputs": [],
   "source": [
    "import seaborn as sns\n",
    "import matplotlib.pyplot as plt\n",
    "\n",
    "from scipy.stats import kruskal\n",
    "\n",
    "# Assuming 'resp_patients_data' is your DataFrame with columns 'Diagnosis' and 'LOS'\n",
    "# Replace 'resp_patients_data' with your actual DataFrame name\n",
    "\n",
    "# Extract LOS values for each diagnosis category\n",
    "los_by_diagnosis = [group_data['LOS_Hours'].values for _, group_data in resp_patients_data.groupby('AgeGroup')]\n",
    "\n",
    "# Perform Kruskal-Wallis test\n",
    "statistic, p_value = kruskal(*los_by_diagnosis)\n",
    "\n",
    "# Print the test results\n",
    "print(\"Kruskal-Wallis test results:\")\n",
    "print(\"Statistic:\", statistic)\n",
    "print(\"P-value:\", p_value)\n",
    "\n",
    "# Visualize the LOS distribution for each diagnosis category using a box plot\n",
    "plt.figure(figsize=(10, 6))\n",
    "sns.barplot(x='AgeGroup', y='LOS_Hours', data=resp_patients_data)\n",
    "plt.title('LOS Distribution by AgeGroup')\n",
    "plt.xlabel('AgeGroup')\n",
    "plt.ylabel('LOS_Hours')\n",
    "\n",
    "# Adjust rotation of x-axis labels\n",
    "plt.xticks(rotation=45, ha='right')  # Rotate labels 45 degrees and align them to the right\n",
    "\n",
    "plt.show()\n",
    "\n",
    "# Compute the p-values for each diagnosis type\n",
    "p_values = resp_patients_data.groupby('AgeGroup')['P-value'].mean().reset_index()\n",
    "\n",
    "# Sort the data by p-value\n",
    "p_values = p_values.sort_values(by='P-value', ascending=False)\n",
    "\n",
    "# Plotting\n",
    "plt.figure(figsize=(10, 6))\n",
    "sns.barplot(x='P-value', y='AgeGroup', data=p_values, palette='viridis')\n",
    "plt.title('P-values for Different AgeGroup Types')\n",
    "plt.xlabel('P-value')\n",
    "plt.ylabel('AgeGroup')\n",
    "\n",
    "# Adjust rotation of x-axis labels\n",
    "plt.xticks(rotation=45, ha='right')  # Rotate labels 45 degrees and align them to the right\n",
    "\n",
    "plt.show()"
   ]
  },
  {
   "cell_type": "code",
   "execution_count": null,
   "id": "6a4c2ba3",
   "metadata": {
    "execution": {
     "iopub.execute_input": "2024-04-14T00:14:38.690403Z",
     "iopub.status.busy": "2024-04-14T00:14:38.689982Z",
     "iopub.status.idle": "2024-04-14T00:14:39.727659Z",
     "shell.execute_reply": "2024-04-14T00:14:39.725859Z",
     "shell.execute_reply.started": "2024-04-14T00:14:38.690370Z"
    },
    "papermill": {
     "duration": null,
     "end_time": null,
     "exception": null,
     "start_time": null,
     "status": "pending"
    },
    "tags": []
   },
   "outputs": [],
   "source": [
    "import seaborn as sns\n",
    "import matplotlib.pyplot as plt\n",
    "from scipy.stats import kruskal\n",
    "\n",
    "# Assuming 'resp_patients_data' is your DataFrame with columns 'Diagnosis' and 'LOS'\n",
    "# Replace 'resp_patients_data' with your actual DataFrame name\n",
    "\n",
    "# Extract LOS values for each age group category\n",
    "los_by_age_group = [group_data['LOS_Hours'].values for _, group_data in resp_patients_data.groupby('AgeGroup')]\n",
    "\n",
    "# Perform Kruskal-Wallis test\n",
    "statistic, p_value = kruskal(*los_by_age_group)\n",
    "\n",
    "# Print the test results\n",
    "print(\"Kruskal-Wallis test results:\")\n",
    "print(\"Statistic:\", statistic)\n",
    "print(\"P-value:\", p_value)\n",
    "\n",
    "# Visualize the LOS distribution for each age group category using a bar plot\n",
    "plt.figure(figsize=(10, 6))\n",
    "sns.barplot(x='AgeGroup', y='LOS_Hours', data=resp_patients_data)\n",
    "plt.title('LOS Distribution by Age Group')\n",
    "plt.xlabel('Age Group')\n",
    "plt.ylabel('LOS Hours')\n",
    "\n",
    "# Adjust rotation of x-axis labels\n",
    "plt.xticks(rotation=45, ha='right')  # Rotate labels 45 degrees and align them to the right\n",
    "\n",
    "plt.show()\n",
    "\n",
    "# Compute the p-values for each age group type\n",
    "p_values = resp_patients_data.groupby('AgeGroup')['P_value'].mean().reset_index()\n",
    "\n",
    "# Sort the data by p-value\n",
    "p_values = p_values.sort_values(by='P_value', ascending=False)\n",
    "\n",
    "# Plotting\n",
    "plt.figure(figsize=(10, 6))\n",
    "sns.barplot(x='P_value', y='AgeGroup', data=p_values, palette='viridis')\n",
    "plt.title('P-values for Different Age Group Types')\n",
    "plt.xlabel('P-value')\n",
    "plt.ylabel('Age Group')\n",
    "\n",
    "# Adjust rotation of x-axis labels\n",
    "plt.xticks(rotation=45, ha='right')  # Rotate labels 45 degrees and align them to the right\n",
    "\n",
    "plt.show()"
   ]
  },
  {
   "cell_type": "code",
   "execution_count": null,
   "id": "93614d4c",
   "metadata": {
    "execution": {
     "iopub.execute_input": "2024-04-14T00:23:04.296271Z",
     "iopub.status.busy": "2024-04-14T00:23:04.295667Z",
     "iopub.status.idle": "2024-04-14T00:23:04.320597Z",
     "shell.execute_reply": "2024-04-14T00:23:04.318925Z",
     "shell.execute_reply.started": "2024-04-14T00:23:04.296223Z"
    },
    "papermill": {
     "duration": null,
     "end_time": null,
     "exception": null,
     "start_time": null,
     "status": "pending"
    },
    "tags": []
   },
   "outputs": [],
   "source": [
    "# Filter out rows with 'Unknown' gender\n",
    "filtered_data = resp_patients_data.loc[resp_patients_data['Gender'].isin(['Male', 'Female'])]\n",
    "resp_patients_data"
   ]
  },
  {
   "cell_type": "code",
   "execution_count": null,
   "id": "9a664f2a",
   "metadata": {
    "execution": {
     "iopub.execute_input": "2024-04-14T00:22:46.474524Z",
     "iopub.status.busy": "2024-04-14T00:22:46.474036Z",
     "iopub.status.idle": "2024-04-14T00:22:46.482396Z",
     "shell.execute_reply": "2024-04-14T00:22:46.480953Z",
     "shell.execute_reply.started": "2024-04-14T00:22:46.474489Z"
    },
    "papermill": {
     "duration": null,
     "end_time": null,
     "exception": null,
     "start_time": null,
     "status": "pending"
    },
    "tags": []
   },
   "outputs": [],
   "source": []
  },
  {
   "cell_type": "code",
   "execution_count": null,
   "id": "953add67",
   "metadata": {
    "execution": {
     "iopub.execute_input": "2024-04-14T01:22:47.350029Z",
     "iopub.status.busy": "2024-04-14T01:22:47.349558Z",
     "iopub.status.idle": "2024-04-14T01:22:47.885247Z",
     "shell.execute_reply": "2024-04-14T01:22:47.883234Z",
     "shell.execute_reply.started": "2024-04-14T01:22:47.349994Z"
    },
    "papermill": {
     "duration": null,
     "end_time": null,
     "exception": null,
     "start_time": null,
     "status": "pending"
    },
    "tags": []
   },
   "outputs": [],
   "source": [
    "import seaborn as sns\n",
    "import matplotlib.pyplot as plt\n",
    "from scipy.stats import kruskal\n",
    "\n",
    "# Assuming 'resp_patients_data' is your DataFrame with columns 'Diagnosis' and 'LOS'\n",
    "# Replace 'resp_patients_data' with your actual DataFrame name\n",
    "\n",
    "# Extract LOS values for each age group category\n",
    "los_by_age_group = [group_data['LOS_Hours'].values for _, group_data in resp_patients_data.groupby('Gender')]\n",
    "\n",
    "# Perform Kruskal-Wallis test\n",
    "statistic, p_value = kruskal(*los_by_age_group)\n",
    "\n",
    "# Print the test results\n",
    "print(\"Kruskal-Wallis test results:\")\n",
    "print(\"Statistic:\", statistic)\n",
    "print(\"P-value:\", p_value)\n",
    "\n",
    "# Visualize the LOS distribution for each age group category using a bar plot\n",
    "plt.figure(figsize=(10, 6))\n",
    "sns.barplot(x='Gender', y='LOS_Hours', data=resp_patients_data)\n",
    "plt.title('LOS Distribution by Gender')\n",
    "plt.xlabel('Gender')\n",
    "plt.ylabel('LOS Hours')\n",
    "\n",
    "# Adjust rotation of x-axis labels\n",
    "plt.xticks(rotation=45, ha='right')  # Rotate labels 45 degrees and align them to the right\n",
    "\n",
    "plt.show()\n",
    "\n",
    "# Compute the p-values for each age group type\n",
    "p_values = resp_patients_data.groupby('Gender')['P_value'].mean().reset_index()\n",
    "\n",
    "# Sort the data by p-value\n",
    "p_values = p_values.sort_values(by='P_value', ascending=False)\n",
    "\n",
    "# Plotting\n",
    "plt.figure(figsize=(10, 6))\n",
    "sns.barplot(x='P_value', y='Gender', data=p_values, palette='viridis')\n",
    "plt.title('P-values for Different Gender Types')\n",
    "plt.xlabel('P-value')\n",
    "plt.ylabel('Gender')\n",
    "\n",
    "# Adjust rotation of x-axis labels\n",
    "plt.xticks(rotation=45, ha='right')  # Rotate labels 45 degrees and align them to the right\n",
    "\n",
    "plt.show()"
   ]
  },
  {
   "cell_type": "code",
   "execution_count": null,
   "id": "2f819b3e",
   "metadata": {
    "execution": {
     "iopub.execute_input": "2024-04-14T01:24:43.366898Z",
     "iopub.status.busy": "2024-04-14T01:24:43.366360Z",
     "iopub.status.idle": "2024-04-14T01:24:43.884030Z",
     "shell.execute_reply": "2024-04-14T01:24:43.881918Z",
     "shell.execute_reply.started": "2024-04-14T01:24:43.366858Z"
    },
    "papermill": {
     "duration": null,
     "end_time": null,
     "exception": null,
     "start_time": null,
     "status": "pending"
    },
    "tags": []
   },
   "outputs": [],
   "source": [
    "import seaborn as sns\n",
    "import matplotlib.pyplot as plt\n",
    "from scipy.stats import kruskal\n",
    "\n",
    "# Assuming 'resp_patients_data' is your DataFrame with columns 'Gender' and 'LOS_Hours'\n",
    "# Replace 'resp_patients_data' with your actual DataFrame name\n",
    "\n",
    "# Filter out rows with 'Unknown' gender\n",
    "resp_patients_data_filtered = resp_patients_data[resp_patients_data['Gender'].isin(['Male', 'Female'])]\n",
    "\n",
    "# Extract LOS values for each gender category\n",
    "los_by_gender = [group_data['LOS_Hours'].values for _, group_data in resp_patients_data_filtered.groupby('Gender')]\n",
    "\n",
    "# Perform Kruskal-Wallis test\n",
    "statistic, p_value = kruskal(*los_by_gender)\n",
    "\n",
    "# Print the test results\n",
    "print(\"Kruskal-Wallis test results:\")\n",
    "print(\"Statistic:\", statistic)\n",
    "print(\"P-value:\", p_value)\n",
    "\n",
    "# Visualize the LOS distribution for each gender category using a bar plot\n",
    "plt.figure(figsize=(10, 6))\n",
    "sns.barplot(x='Gender', y='LOS_Hours', data=resp_patients_data_filtered)\n",
    "plt.title('LOS Distribution by Gender')\n",
    "plt.xlabel('Gender')\n",
    "plt.ylabel('LOS Hours')\n",
    "\n",
    "# Adjust rotation of x-axis labels\n",
    "plt.xticks(rotation=45, ha='right')  # Rotate labels 45 degrees and align them to the right\n",
    "\n",
    "plt.show()\n",
    "\n",
    "# Compute the p-values for each gender type\n",
    "p_values = resp_patients_data_filtered.groupby('Gender')['P-value'].mean().reset_index()\n",
    "\n",
    "# Sort the data by p-value\n",
    "p_values = p_values.sort_values(by='P-value', ascending=False)\n",
    "\n",
    "# Plotting\n",
    "plt.figure(figsize=(10, 6))\n",
    "sns.barplot(x='P-value', y='Gender', data=p_values, palette='viridis')\n",
    "plt.title('P-values for Male and Female')\n",
    "plt.xlabel('P-value')\n",
    "plt.ylabel('Gender')\n",
    "\n",
    "# Adjust rotation of x-axis labels\n",
    "plt.xticks(rotation=45, ha='right')  # Rotate labels 45 degrees and align them to the right\n",
    "\n",
    "plt.show()"
   ]
  },
  {
   "cell_type": "code",
   "execution_count": null,
   "id": "1a8498f3",
   "metadata": {
    "papermill": {
     "duration": null,
     "end_time": null,
     "exception": null,
     "start_time": null,
     "status": "pending"
    },
    "tags": []
   },
   "outputs": [],
   "source": [
    "import seaborn as sns\n",
    "import matplotlib.pyplot as plt\n",
    "from scipy.stats import kruskal\n",
    "\n",
    "# Assuming 'resp_patients_data' is your DataFrame with columns 'Gender' and 'LOS_Hours'\n",
    "# Replace 'resp_patients_data' with your actual DataFrame name\n",
    "\n",
    "# Extract LOS values for each gender category\n",
    "los_by_gender = [group_data['LOS_Hours'].values for _, group_data in resp_patients_data.groupby('Gender')]\n",
    "\n",
    "# Perform Kruskal-Wallis test\n",
    "statistic, p_value = kruskal(*los_by_gender)\n",
    "\n",
    "# Print the test results\n",
    "print(\"Kruskal-Wallis test results:\")\n",
    "print(\"Statistic:\", statistic)\n",
    "print(\"P-value:\", p_value)\n",
    "\n",
    "# Visualize the LOS distribution for each gender category using a bar plot\n",
    "plt.figure(figsize=(10, 6))\n",
    "sns.barplot(x='Gender', y='LOS_Hours', data=resp_patients_data)\n",
    "plt.title('LOS Distribution by Gender')\n",
    "plt.xlabel('Gender')\n",
    "plt.ylabel('LOS_Hours')\n",
    "\n",
    "# Adjust rotation of x-axis labels\n",
    "plt.xticks(rotation=45, ha='right')  # Rotate labels 45 degrees and align them to the right\n",
    "\n",
    "plt.show()\n",
    "\n",
    "# Compute the p-values for each gender type\n",
    "p_values = resp_patients_data.groupby('Gender')['P-value'].mean().reset_index()\n",
    "\n",
    "# Sort the data by p-value\n",
    "p_values = p_values.sort_values(by='P-value', ascending=False)\n",
    "\n",
    "# Plotting\n",
    "plt.figure(figsize=(10, 6))\n",
    "sns.barplot(x='P-value', y='Gender', data=p_values, palette='viridis')\n",
    "plt.title('P-values for Different Gender Types')\n",
    "plt.xlabel('P-value')\n",
    "plt.ylabel('Gender')\n",
    "\n",
    "# Adjust rotation of x-axis labels\n",
    "plt.xticks(rotation=45, ha='right')  # Rotate labels 45 degrees and align them to the right\n",
    "\n",
    "plt.show()"
   ]
  },
  {
   "cell_type": "code",
   "execution_count": null,
   "id": "cdb15e10",
   "metadata": {
    "execution": {
     "iopub.execute_input": "2024-04-13T23:53:23.259758Z",
     "iopub.status.busy": "2024-04-13T23:53:23.258449Z",
     "iopub.status.idle": "2024-04-13T23:53:23.969840Z",
     "shell.execute_reply": "2024-04-13T23:53:23.968272Z",
     "shell.execute_reply.started": "2024-04-13T23:53:23.259716Z"
    },
    "papermill": {
     "duration": null,
     "end_time": null,
     "exception": null,
     "start_time": null,
     "status": "pending"
    },
    "tags": []
   },
   "outputs": [],
   "source": [
    "import seaborn as sns\n",
    "import matplotlib.pyplot as plt\n",
    "\n",
    "# Visualize the LOS distribution for each diagnosis category using a box plot\n",
    "plt.figure(figsize=(10, 6))\n",
    "sns.barplot(x='Diagnosis', y='LOS_Hours', data=resp_patients_data)\n",
    "plt.title('LOS Distribution by Diagnosis')\n",
    "plt.xlabel('Diagnosis')\n",
    "plt.ylabel('LOS_Hours')\n",
    "plt.show()\n",
    "\n",
    "# Compute the p-values for each diagnosis type\n",
    "p_values = resp_patients_data.groupby('Diagnosis')['P-value'].mean().reset_index()\n",
    "\n",
    "# Sort the data by p-value\n",
    "p_values = p_values.sort_values(by='P-value', ascending=False)\n",
    "\n",
    "# Plotting\n",
    "plt.figure(figsize=(10, 10))\n",
    "sns.barplot(x='P-value', y='Diagnosis', data=p_values, palette='viridis')\n",
    "plt.title('P-values for Different Diagnosis Types')\n",
    "plt.xlabel('P-value')\n",
    "plt.ylabel('Diagnosis')\n",
    "plt.show()\n",
    "\n",
    "\n"
   ]
  },
  {
   "cell_type": "code",
   "execution_count": null,
   "id": "b14a4cd5",
   "metadata": {
    "execution": {
     "iopub.execute_input": "2024-04-13T23:49:52.974907Z",
     "iopub.status.busy": "2024-04-13T23:49:52.974338Z",
     "iopub.status.idle": "2024-04-13T23:49:53.722952Z",
     "shell.execute_reply": "2024-04-13T23:49:53.721097Z",
     "shell.execute_reply.started": "2024-04-13T23:49:52.974861Z"
    },
    "papermill": {
     "duration": null,
     "end_time": null,
     "exception": null,
     "start_time": null,
     "status": "pending"
    },
    "tags": []
   },
   "outputs": [],
   "source": [
    "import seaborn as sns\n",
    "import matplotlib.pyplot as plt\n",
    "\n",
    "# Compute the p-values for each diagnosis type\n",
    "p_values = resp_patients_data.groupby('Diagnosis')['P-value'].mean().reset_index()\n",
    "\n",
    "# Sort the data by p-value\n",
    "p_values = p_values.sort_values(by='P-value', ascending=False)\n",
    "\n",
    "# Plotting\n",
    "plt.figure(figsize=(10, 6))\n",
    "sns.barplot(x='P-value', y='Diagnosis', data=p_values, palette='viridis')\n",
    "plt.title('P-values for Different Diagnosis Types')\n",
    "plt.xlabel('P-value')\n",
    "plt.ylabel('Diagnosis')\n",
    "plt.show()"
   ]
  },
  {
   "cell_type": "code",
   "execution_count": null,
   "id": "ec4d080a",
   "metadata": {
    "execution": {
     "iopub.execute_input": "2024-04-13T22:38:20.460539Z",
     "iopub.status.busy": "2024-04-13T22:38:20.459338Z",
     "iopub.status.idle": "2024-04-13T22:38:20.481184Z",
     "shell.execute_reply": "2024-04-13T22:38:20.479911Z",
     "shell.execute_reply.started": "2024-04-13T22:38:20.460494Z"
    },
    "papermill": {
     "duration": null,
     "end_time": null,
     "exception": null,
     "start_time": null,
     "status": "pending"
    },
    "tags": []
   },
   "outputs": [],
   "source": [
    "# Get the top 5 most frequent complaints to be used in the model\n",
    "top_5_complaints = resp_patients_data['PresentingComplaint'].value_counts().head(5).index.tolist()\n",
    "\n",
    "# Filter the data to keep only the rows with the top 5 complaints\n",
    "resp_patients_data = resp_patients_data[resp_patients_data['PresentingComplaint'].isin(top_5_complaints)]\n",
    "resp_patients_data"
   ]
  },
  {
   "cell_type": "markdown",
   "id": "f23bb266",
   "metadata": {
    "papermill": {
     "duration": null,
     "end_time": null,
     "exception": null,
     "start_time": null,
     "status": "pending"
    },
    "tags": []
   },
   "source": [
    "# remove duplicated values with spelling issues "
   ]
  },
  {
   "cell_type": "code",
   "execution_count": null,
   "id": "e9394aaf",
   "metadata": {
    "execution": {
     "iopub.execute_input": "2024-04-13T22:38:20.483849Z",
     "iopub.status.busy": "2024-04-13T22:38:20.482879Z",
     "iopub.status.idle": "2024-04-13T22:38:20.503293Z",
     "shell.execute_reply": "2024-04-13T22:38:20.502144Z",
     "shell.execute_reply.started": "2024-04-13T22:38:20.483787Z"
    },
    "papermill": {
     "duration": null,
     "end_time": null,
     "exception": null,
     "start_time": null,
     "status": "pending"
    },
    "tags": []
   },
   "outputs": [],
   "source": [
    "#removing columns to address any speling issues with the presenting complaint.\n",
    "resp_patients_data = resp_patients_data[resp_patients_data['Diagnosis'] != 'pneumonia']\n",
    "resp_patients_data = resp_patients_data[resp_patients_data['Diagnosis'] != 'asthma']\n",
    "resp_patients_data"
   ]
  },
  {
   "cell_type": "markdown",
   "id": "fd1a39fd",
   "metadata": {
    "papermill": {
     "duration": null,
     "end_time": null,
     "exception": null,
     "start_time": null,
     "status": "pending"
    },
    "tags": []
   },
   "source": [
    "# Converting the features to numerical data"
   ]
  },
  {
   "cell_type": "code",
   "execution_count": null,
   "id": "97a85854",
   "metadata": {
    "execution": {
     "iopub.execute_input": "2024-04-13T22:38:20.505417Z",
     "iopub.status.busy": "2024-04-13T22:38:20.504654Z",
     "iopub.status.idle": "2024-04-13T22:38:20.521786Z",
     "shell.execute_reply": "2024-04-13T22:38:20.520403Z",
     "shell.execute_reply.started": "2024-04-13T22:38:20.505376Z"
    },
    "papermill": {
     "duration": null,
     "end_time": null,
     "exception": null,
     "start_time": null,
     "status": "pending"
    },
    "tags": []
   },
   "outputs": [],
   "source": [
    "from sklearn.preprocessing import LabelEncoder\n",
    "\n",
    "# Create an instance of LabelEncoder\n",
    "labelencoder = LabelEncoder()\n",
    "\n",
    "# Columns to be encoded\n",
    "resppat_encode = ['AgeGroup', 'PresentingComplaint', 'Gender']\n",
    "\n",
    "# Loop through each column and perform label encoding\n",
    "for column in resppat_encode:\n",
    "    resp_patients_data[column] = labelencoder.fit_transform(resp_patients_data[column])"
   ]
  },
  {
   "cell_type": "code",
   "execution_count": null,
   "id": "d0ecea46",
   "metadata": {
    "execution": {
     "iopub.execute_input": "2024-04-13T22:38:20.525465Z",
     "iopub.status.busy": "2024-04-13T22:38:20.524968Z",
     "iopub.status.idle": "2024-04-13T22:38:20.542503Z",
     "shell.execute_reply": "2024-04-13T22:38:20.541377Z",
     "shell.execute_reply.started": "2024-04-13T22:38:20.525419Z"
    },
    "papermill": {
     "duration": null,
     "end_time": null,
     "exception": null,
     "start_time": null,
     "status": "pending"
    },
    "tags": []
   },
   "outputs": [],
   "source": [
    "  resp_patients_data"
   ]
  },
  {
   "cell_type": "code",
   "execution_count": null,
   "id": "4c58fff2",
   "metadata": {
    "execution": {
     "iopub.execute_input": "2024-04-13T22:38:20.544913Z",
     "iopub.status.busy": "2024-04-13T22:38:20.544164Z",
     "iopub.status.idle": "2024-04-13T22:38:20.562160Z",
     "shell.execute_reply": "2024-04-13T22:38:20.560784Z",
     "shell.execute_reply.started": "2024-04-13T22:38:20.544866Z"
    },
    "papermill": {
     "duration": null,
     "end_time": null,
     "exception": null,
     "start_time": null,
     "status": "pending"
    },
    "tags": []
   },
   "outputs": [],
   "source": [
    "# Create an instance of LabelEncoder\n",
    "label_encoder = LabelEncoder()\n",
    "\n",
    "# Fit the LabelEncoder on the top 10 complaints and transform the column\n",
    "resp_patients_data['AgeGroup'] = label_encoder.fit_transform(resp_patients_data['AgeGroup'])\n",
    "resp_patients_data"
   ]
  },
  {
   "cell_type": "code",
   "execution_count": null,
   "id": "4650bb4a",
   "metadata": {
    "execution": {
     "iopub.execute_input": "2024-04-13T22:38:20.564586Z",
     "iopub.status.busy": "2024-04-13T22:38:20.564147Z",
     "iopub.status.idle": "2024-04-13T22:38:20.582291Z",
     "shell.execute_reply": "2024-04-13T22:38:20.580925Z",
     "shell.execute_reply.started": "2024-04-13T22:38:20.564546Z"
    },
    "papermill": {
     "duration": null,
     "end_time": null,
     "exception": null,
     "start_time": null,
     "status": "pending"
    },
    "tags": []
   },
   "outputs": [],
   "source": [
    "# Create an instance of LabelEncoder\n",
    "label_encoder = LabelEncoder()\n",
    "\n",
    "# Fit the LabelEncoder on the top 10 complaints and transform the column\n",
    "resp_patients_data['Gender'] = label_encoder.fit_transform(resp_patients_data['Gender'])\n",
    "resp_patients_data"
   ]
  },
  {
   "cell_type": "code",
   "execution_count": null,
   "id": "4795af16",
   "metadata": {
    "execution": {
     "iopub.execute_input": "2024-04-13T22:38:20.584607Z",
     "iopub.status.busy": "2024-04-13T22:38:20.583921Z",
     "iopub.status.idle": "2024-04-13T22:38:20.600393Z",
     "shell.execute_reply": "2024-04-13T22:38:20.599242Z",
     "shell.execute_reply.started": "2024-04-13T22:38:20.584564Z"
    },
    "papermill": {
     "duration": null,
     "end_time": null,
     "exception": null,
     "start_time": null,
     "status": "pending"
    },
    "tags": []
   },
   "outputs": [],
   "source": [
    "# Create an instance of LabelEncoder\n",
    "label_encoder = LabelEncoder()\n",
    "\n",
    "# Fit the LabelEncoder on the top complaints and transform the column\n",
    "resp_patients_data['PresentingComplaint'] = label_encoder.fit_transform(resp_patients_data['PresentingComplaint'])\n",
    "resp_patients_data"
   ]
  },
  {
   "cell_type": "markdown",
   "id": "b95c2fc1",
   "metadata": {
    "papermill": {
     "duration": null,
     "end_time": null,
     "exception": null,
     "start_time": null,
     "status": "pending"
    },
    "tags": []
   },
   "source": [
    "# MODEL DEVELOPMENT"
   ]
  },
  {
   "cell_type": "markdown",
   "id": "677e4c77",
   "metadata": {
    "papermill": {
     "duration": null,
     "end_time": null,
     "exception": null,
     "start_time": null,
     "status": "pending"
    },
    "tags": []
   },
   "source": [
    "# Splitting the data to train and test set"
   ]
  },
  {
   "cell_type": "code",
   "execution_count": null,
   "id": "d03d8b53",
   "metadata": {
    "execution": {
     "iopub.execute_input": "2024-04-13T22:38:20.605159Z",
     "iopub.status.busy": "2024-04-13T22:38:20.603574Z",
     "iopub.status.idle": "2024-04-13T22:38:20.617226Z",
     "shell.execute_reply": "2024-04-13T22:38:20.616030Z",
     "shell.execute_reply.started": "2024-04-13T22:38:20.605113Z"
    },
    "papermill": {
     "duration": null,
     "end_time": null,
     "exception": null,
     "start_time": null,
     "status": "pending"
    },
    "tags": []
   },
   "outputs": [],
   "source": [
    "from sklearn.model_selection import train_test_split\n",
    "\n",
    "# Split the data into train and test sets\n",
    "X_train, X_test, y_train, y_test = train_test_split(resp_patients_data.drop('Diagnosis', axis=1), resp_patients_data['Diagnosis'], test_size=0.2, random_state=42)\n",
    "\n"
   ]
  },
  {
   "cell_type": "code",
   "execution_count": null,
   "id": "f52f5aa9",
   "metadata": {
    "execution": {
     "iopub.execute_input": "2024-04-13T22:38:20.619689Z",
     "iopub.status.busy": "2024-04-13T22:38:20.619239Z",
     "iopub.status.idle": "2024-04-13T22:38:20.638691Z",
     "shell.execute_reply": "2024-04-13T22:38:20.637466Z",
     "shell.execute_reply.started": "2024-04-13T22:38:20.619647Z"
    },
    "papermill": {
     "duration": null,
     "end_time": null,
     "exception": null,
     "start_time": null,
     "status": "pending"
    },
    "tags": []
   },
   "outputs": [],
   "source": [
    "print(X_train)"
   ]
  },
  {
   "cell_type": "code",
   "execution_count": null,
   "id": "1e6b2eda",
   "metadata": {
    "execution": {
     "iopub.execute_input": "2024-04-13T22:38:20.640479Z",
     "iopub.status.busy": "2024-04-13T22:38:20.640121Z",
     "iopub.status.idle": "2024-04-13T22:38:20.652516Z",
     "shell.execute_reply": "2024-04-13T22:38:20.651122Z",
     "shell.execute_reply.started": "2024-04-13T22:38:20.640447Z"
    },
    "papermill": {
     "duration": null,
     "end_time": null,
     "exception": null,
     "start_time": null,
     "status": "pending"
    },
    "tags": []
   },
   "outputs": [],
   "source": [
    "print(X_test)"
   ]
  },
  {
   "cell_type": "code",
   "execution_count": null,
   "id": "d71e5871",
   "metadata": {
    "execution": {
     "iopub.execute_input": "2024-04-13T22:38:20.656177Z",
     "iopub.status.busy": "2024-04-13T22:38:20.654928Z",
     "iopub.status.idle": "2024-04-13T22:38:20.662712Z",
     "shell.execute_reply": "2024-04-13T22:38:20.661810Z",
     "shell.execute_reply.started": "2024-04-13T22:38:20.656140Z"
    },
    "papermill": {
     "duration": null,
     "end_time": null,
     "exception": null,
     "start_time": null,
     "status": "pending"
    },
    "tags": []
   },
   "outputs": [],
   "source": [
    "print(y_train)"
   ]
  },
  {
   "cell_type": "code",
   "execution_count": null,
   "id": "0eafe9e7",
   "metadata": {
    "execution": {
     "iopub.execute_input": "2024-04-13T22:38:20.664900Z",
     "iopub.status.busy": "2024-04-13T22:38:20.664500Z",
     "iopub.status.idle": "2024-04-13T22:38:20.674226Z",
     "shell.execute_reply": "2024-04-13T22:38:20.672909Z",
     "shell.execute_reply.started": "2024-04-13T22:38:20.664862Z"
    },
    "papermill": {
     "duration": null,
     "end_time": null,
     "exception": null,
     "start_time": null,
     "status": "pending"
    },
    "tags": []
   },
   "outputs": [],
   "source": [
    "print(y_test)"
   ]
  },
  {
   "cell_type": "code",
   "execution_count": null,
   "id": "b7e618d4",
   "metadata": {
    "execution": {
     "iopub.execute_input": "2024-04-13T22:38:20.676693Z",
     "iopub.status.busy": "2024-04-13T22:38:20.676031Z",
     "iopub.status.idle": "2024-04-13T22:38:20.683249Z",
     "shell.execute_reply": "2024-04-13T22:38:20.682374Z",
     "shell.execute_reply.started": "2024-04-13T22:38:20.676653Z"
    },
    "papermill": {
     "duration": null,
     "end_time": null,
     "exception": null,
     "start_time": null,
     "status": "pending"
    },
    "tags": []
   },
   "outputs": [],
   "source": [
    "X_train.shape"
   ]
  },
  {
   "cell_type": "code",
   "execution_count": null,
   "id": "b5886460",
   "metadata": {
    "execution": {
     "iopub.execute_input": "2024-04-13T22:38:20.685254Z",
     "iopub.status.busy": "2024-04-13T22:38:20.684644Z",
     "iopub.status.idle": "2024-04-13T22:38:20.695078Z",
     "shell.execute_reply": "2024-04-13T22:38:20.693833Z",
     "shell.execute_reply.started": "2024-04-13T22:38:20.685223Z"
    },
    "papermill": {
     "duration": null,
     "end_time": null,
     "exception": null,
     "start_time": null,
     "status": "pending"
    },
    "tags": []
   },
   "outputs": [],
   "source": [
    "y_train.shape"
   ]
  },
  {
   "cell_type": "code",
   "execution_count": null,
   "id": "035e6c0b",
   "metadata": {
    "execution": {
     "iopub.execute_input": "2024-04-13T22:38:20.703943Z",
     "iopub.status.busy": "2024-04-13T22:38:20.702639Z",
     "iopub.status.idle": "2024-04-13T22:38:20.710659Z",
     "shell.execute_reply": "2024-04-13T22:38:20.709389Z",
     "shell.execute_reply.started": "2024-04-13T22:38:20.703901Z"
    },
    "papermill": {
     "duration": null,
     "end_time": null,
     "exception": null,
     "start_time": null,
     "status": "pending"
    },
    "tags": []
   },
   "outputs": [],
   "source": [
    "X_test.shape"
   ]
  },
  {
   "cell_type": "code",
   "execution_count": null,
   "id": "ba1a1f82",
   "metadata": {
    "execution": {
     "iopub.execute_input": "2024-04-13T22:38:20.712496Z",
     "iopub.status.busy": "2024-04-13T22:38:20.712158Z",
     "iopub.status.idle": "2024-04-13T22:38:20.723035Z",
     "shell.execute_reply": "2024-04-13T22:38:20.721893Z",
     "shell.execute_reply.started": "2024-04-13T22:38:20.712467Z"
    },
    "papermill": {
     "duration": null,
     "end_time": null,
     "exception": null,
     "start_time": null,
     "status": "pending"
    },
    "tags": []
   },
   "outputs": [],
   "source": [
    "y_test.shape"
   ]
  },
  {
   "cell_type": "markdown",
   "id": "88b0cb11",
   "metadata": {
    "papermill": {
     "duration": null,
     "end_time": null,
     "exception": null,
     "start_time": null,
     "status": "pending"
    },
    "tags": []
   },
   "source": [
    "# Training the Model"
   ]
  },
  {
   "cell_type": "code",
   "execution_count": null,
   "id": "9965283a",
   "metadata": {
    "execution": {
     "iopub.execute_input": "2024-04-13T22:38:20.724770Z",
     "iopub.status.busy": "2024-04-13T22:38:20.724431Z",
     "iopub.status.idle": "2024-04-13T22:38:20.755460Z",
     "shell.execute_reply": "2024-04-13T22:38:20.754292Z",
     "shell.execute_reply.started": "2024-04-13T22:38:20.724741Z"
    },
    "papermill": {
     "duration": null,
     "end_time": null,
     "exception": null,
     "start_time": null,
     "status": "pending"
    },
    "tags": []
   },
   "outputs": [],
   "source": [
    "# model training\n",
    "nn = KNeighborsClassifier(n_neighbors=3)\n",
    "nn.fit(X_train,y_train)"
   ]
  },
  {
   "cell_type": "markdown",
   "id": "8229fe04",
   "metadata": {
    "papermill": {
     "duration": null,
     "end_time": null,
     "exception": null,
     "start_time": null,
     "status": "pending"
    },
    "tags": []
   },
   "source": [
    "# KNN Model"
   ]
  },
  {
   "cell_type": "code",
   "execution_count": null,
   "id": "c073c59c",
   "metadata": {
    "execution": {
     "iopub.execute_input": "2024-04-13T22:38:20.758845Z",
     "iopub.status.busy": "2024-04-13T22:38:20.758345Z",
     "iopub.status.idle": "2024-04-13T22:38:20.818746Z",
     "shell.execute_reply": "2024-04-13T22:38:20.817627Z",
     "shell.execute_reply.started": "2024-04-13T22:38:20.758786Z"
    },
    "papermill": {
     "duration": null,
     "end_time": null,
     "exception": null,
     "start_time": null,
     "status": "pending"
    },
    "tags": []
   },
   "outputs": [],
   "source": [
    "# Predict from the test dataset\n",
    "yknn_predict = nn.predict(X_test)\n",
    "# Calculate the accuracy\n",
    "from sklearn.metrics import accuracy_score\n",
    "# accuracy\n",
    "accuracy_score(y_test, yknn_predict)"
   ]
  },
  {
   "cell_type": "code",
   "execution_count": null,
   "id": "af6e806a",
   "metadata": {
    "execution": {
     "iopub.execute_input": "2024-04-13T22:38:20.820954Z",
     "iopub.status.busy": "2024-04-13T22:38:20.820452Z",
     "iopub.status.idle": "2024-04-13T22:38:20.828890Z",
     "shell.execute_reply": "2024-04-13T22:38:20.827675Z",
     "shell.execute_reply.started": "2024-04-13T22:38:20.820901Z"
    },
    "papermill": {
     "duration": null,
     "end_time": null,
     "exception": null,
     "start_time": null,
     "status": "pending"
    },
    "tags": []
   },
   "outputs": [],
   "source": [
    "# Importing the classification report\n",
    "from sklearn.metrics import classification_report"
   ]
  },
  {
   "cell_type": "code",
   "execution_count": null,
   "id": "9a13a98c",
   "metadata": {
    "execution": {
     "iopub.execute_input": "2024-04-13T22:38:20.830819Z",
     "iopub.status.busy": "2024-04-13T22:38:20.830363Z",
     "iopub.status.idle": "2024-04-13T22:38:20.913712Z",
     "shell.execute_reply": "2024-04-13T22:38:20.912569Z",
     "shell.execute_reply.started": "2024-04-13T22:38:20.830775Z"
    },
    "papermill": {
     "duration": null,
     "end_time": null,
     "exception": null,
     "start_time": null,
     "status": "pending"
    },
    "tags": []
   },
   "outputs": [],
   "source": [
    "print(classification_report(y_test, yknn_predict))"
   ]
  },
  {
   "cell_type": "code",
   "execution_count": null,
   "id": "b4cba3d9",
   "metadata": {
    "execution": {
     "iopub.execute_input": "2024-04-13T22:38:20.916300Z",
     "iopub.status.busy": "2024-04-13T22:38:20.915210Z",
     "iopub.status.idle": "2024-04-13T22:38:20.932452Z",
     "shell.execute_reply": "2024-04-13T22:38:20.931075Z",
     "shell.execute_reply.started": "2024-04-13T22:38:20.916252Z"
    },
    "papermill": {
     "duration": null,
     "end_time": null,
     "exception": null,
     "start_time": null,
     "status": "pending"
    },
    "tags": []
   },
   "outputs": [],
   "source": [
    "from sklearn.metrics import confusion_matrix\n",
    "\n",
    "# Calculate and print the confusion matrix\n",
    "print(confusion_matrix(y_test, yknn_predict))\n"
   ]
  },
  {
   "cell_type": "code",
   "execution_count": null,
   "id": "6e51631f",
   "metadata": {
    "execution": {
     "iopub.execute_input": "2024-04-13T22:38:20.935047Z",
     "iopub.status.busy": "2024-04-13T22:38:20.934518Z",
     "iopub.status.idle": "2024-04-13T22:38:21.364885Z",
     "shell.execute_reply": "2024-04-13T22:38:21.363748Z",
     "shell.execute_reply.started": "2024-04-13T22:38:20.935004Z"
    },
    "papermill": {
     "duration": null,
     "end_time": null,
     "exception": null,
     "start_time": null,
     "status": "pending"
    },
    "tags": []
   },
   "outputs": [],
   "source": [
    "from sklearn.metrics import confusion_matrix\n",
    "import pandas as pd\n",
    "import seaborn as sns\n",
    "import matplotlib.pyplot as plt\n",
    "\n",
    "def confusionM(y_true, yknn_predict, target_names):\n",
    "    cMatrix = confusion_matrix(y_true, yknn_predict)\n",
    "    df_cm = pd.DataFrame(cMatrix, index=target_names, columns=target_names)\n",
    "    plt.figure(figsize=(6,4))\n",
    "    cm = sns.heatmap(df_cm, annot=True, fmt=\"d\")\n",
    "    cm.yaxis.set_ticklabels(cm.yaxis.get_ticklabels(), rotation=90)\n",
    "    cm.xaxis.set_ticklabels(cm.xaxis.get_ticklabels(), rotation=0)\n",
    "    plt.ylabel('True label')\n",
    "    plt.xlabel('Predicted label')\n",
    "\n",
    "# get the unique class names\n",
    "class_names = resp_patients_data.Diagnosis.unique() \n",
    "\n",
    "# ensure the class_names array matches the actual number of unique classes\n",
    "class_names = class_names[:2]\n",
    "\n",
    "# visualize the confusion matrix\n",
    "confusionM(y_test, yknn_predict, class_names)\n",
    "\n",
    "\n",
    "\n",
    "\n",
    "\n"
   ]
  },
  {
   "cell_type": "markdown",
   "id": "fa5b4781",
   "metadata": {
    "papermill": {
     "duration": null,
     "end_time": null,
     "exception": null,
     "start_time": null,
     "status": "pending"
    },
    "tags": []
   },
   "source": [
    "# Random Forest Model"
   ]
  },
  {
   "cell_type": "code",
   "execution_count": null,
   "id": "3925c151",
   "metadata": {
    "execution": {
     "iopub.execute_input": "2024-04-13T22:38:21.367102Z",
     "iopub.status.busy": "2024-04-13T22:38:21.366528Z",
     "iopub.status.idle": "2024-04-13T22:38:24.989516Z",
     "shell.execute_reply": "2024-04-13T22:38:24.988371Z",
     "shell.execute_reply.started": "2024-04-13T22:38:21.367069Z"
    },
    "papermill": {
     "duration": null,
     "end_time": null,
     "exception": null,
     "start_time": null,
     "status": "pending"
    },
    "tags": []
   },
   "outputs": [],
   "source": [
    "RandomForest = RandomForestClassifier(n_estimators=1000)\n",
    "RandomForest.fit(X_train,y_train)\n",
    "yrf_predict = RandomForest.predict(X_test)\n",
    "accuracy_score(y_test, yrf_predict)"
   ]
  },
  {
   "cell_type": "code",
   "execution_count": null,
   "id": "bf3cb59b",
   "metadata": {
    "execution": {
     "iopub.execute_input": "2024-04-13T22:38:24.991266Z",
     "iopub.status.busy": "2024-04-13T22:38:24.990938Z",
     "iopub.status.idle": "2024-04-13T22:38:25.060378Z",
     "shell.execute_reply": "2024-04-13T22:38:25.059243Z",
     "shell.execute_reply.started": "2024-04-13T22:38:24.991237Z"
    },
    "papermill": {
     "duration": null,
     "end_time": null,
     "exception": null,
     "start_time": null,
     "status": "pending"
    },
    "tags": []
   },
   "outputs": [],
   "source": [
    "print(classification_report(y_test, yrf_predict))"
   ]
  },
  {
   "cell_type": "code",
   "execution_count": null,
   "id": "16a1cd92",
   "metadata": {
    "execution": {
     "iopub.execute_input": "2024-04-13T22:38:25.062419Z",
     "iopub.status.busy": "2024-04-13T22:38:25.061886Z",
     "iopub.status.idle": "2024-04-13T22:38:25.079789Z",
     "shell.execute_reply": "2024-04-13T22:38:25.077917Z",
     "shell.execute_reply.started": "2024-04-13T22:38:25.062346Z"
    },
    "papermill": {
     "duration": null,
     "end_time": null,
     "exception": null,
     "start_time": null,
     "status": "pending"
    },
    "tags": []
   },
   "outputs": [],
   "source": [
    "\n",
    "# Calculate and print the confusion matrix\n",
    "print(confusion_matrix(y_test, yrf_predict))"
   ]
  },
  {
   "cell_type": "code",
   "execution_count": null,
   "id": "61f5a6bd",
   "metadata": {
    "execution": {
     "iopub.execute_input": "2024-04-13T22:38:25.083008Z",
     "iopub.status.busy": "2024-04-13T22:38:25.082637Z",
     "iopub.status.idle": "2024-04-13T22:38:25.459131Z",
     "shell.execute_reply": "2024-04-13T22:38:25.457870Z",
     "shell.execute_reply.started": "2024-04-13T22:38:25.082976Z"
    },
    "papermill": {
     "duration": null,
     "end_time": null,
     "exception": null,
     "start_time": null,
     "status": "pending"
    },
    "tags": []
   },
   "outputs": [],
   "source": [
    "def confusionM(y_true,  yrf_predict, target_names):\n",
    "    cMatrix = confusion_matrix(y_true,  yrf_predict)\n",
    "    df_cm = pd.DataFrame(cMatrix, index=target_names, columns=target_names)\n",
    "    plt.figure(figsize=(6,4))\n",
    "    cm = sns.heatmap(df_cm, annot=True, fmt=\"d\")\n",
    "    cm.yaxis.set_ticklabels(cm.yaxis.get_ticklabels(), rotation=90)\n",
    "    cm.xaxis.set_ticklabels(cm.xaxis.get_ticklabels(), rotation=0)\n",
    "    plt.ylabel('True label')\n",
    "    plt.xlabel('Predicted label')\n",
    "\n",
    "# get the unique class names\n",
    "class_names = resp_patients_data.Diagnosis.unique() \n",
    "\n",
    "# ensure the class_names array matches the actual number of unique classes\n",
    "class_names = class_names[:2]\n",
    "\n",
    "# visualize the confusion matrix\n",
    "confusionM(y_test,  yrf_predict, class_names)"
   ]
  },
  {
   "cell_type": "markdown",
   "id": "44ec2f7f",
   "metadata": {
    "papermill": {
     "duration": null,
     "end_time": null,
     "exception": null,
     "start_time": null,
     "status": "pending"
    },
    "tags": []
   },
   "source": [
    "# Logistic regression model"
   ]
  },
  {
   "cell_type": "code",
   "execution_count": null,
   "id": "b0e74be6",
   "metadata": {
    "execution": {
     "iopub.execute_input": "2024-04-13T22:38:25.460799Z",
     "iopub.status.busy": "2024-04-13T22:38:25.460482Z",
     "iopub.status.idle": "2024-04-13T22:38:25.466106Z",
     "shell.execute_reply": "2024-04-13T22:38:25.464741Z",
     "shell.execute_reply.started": "2024-04-13T22:38:25.460771Z"
    },
    "papermill": {
     "duration": null,
     "end_time": null,
     "exception": null,
     "start_time": null,
     "status": "pending"
    },
    "tags": []
   },
   "outputs": [],
   "source": [
    "from warnings import filterwarnings\n",
    "filterwarnings('ignore')"
   ]
  },
  {
   "cell_type": "code",
   "execution_count": null,
   "id": "254285cb",
   "metadata": {
    "execution": {
     "iopub.execute_input": "2024-04-13T22:38:25.468737Z",
     "iopub.status.busy": "2024-04-13T22:38:25.467925Z",
     "iopub.status.idle": "2024-04-13T22:38:25.584417Z",
     "shell.execute_reply": "2024-04-13T22:38:25.583479Z",
     "shell.execute_reply.started": "2024-04-13T22:38:25.468696Z"
    },
    "papermill": {
     "duration": null,
     "end_time": null,
     "exception": null,
     "start_time": null,
     "status": "pending"
    },
    "tags": []
   },
   "outputs": [],
   "source": [
    "logreg = LogisticRegression()\n",
    "logreg.fit(X_train,y_train)\n",
    "ylg_predict = logreg.predict(X_test)\n",
    "accuracy_score(y_test, ylg_predict)"
   ]
  },
  {
   "cell_type": "code",
   "execution_count": null,
   "id": "a13152bb",
   "metadata": {
    "execution": {
     "iopub.execute_input": "2024-04-13T22:38:25.586400Z",
     "iopub.status.busy": "2024-04-13T22:38:25.585498Z",
     "iopub.status.idle": "2024-04-13T22:38:25.651867Z",
     "shell.execute_reply": "2024-04-13T22:38:25.650619Z",
     "shell.execute_reply.started": "2024-04-13T22:38:25.586363Z"
    },
    "papermill": {
     "duration": null,
     "end_time": null,
     "exception": null,
     "start_time": null,
     "status": "pending"
    },
    "tags": []
   },
   "outputs": [],
   "source": [
    "print(classification_report(y_test, ylg_predict))"
   ]
  },
  {
   "cell_type": "code",
   "execution_count": null,
   "id": "8d2b41fc",
   "metadata": {
    "execution": {
     "iopub.execute_input": "2024-04-13T22:38:25.653528Z",
     "iopub.status.busy": "2024-04-13T22:38:25.653218Z",
     "iopub.status.idle": "2024-04-13T22:38:25.667704Z",
     "shell.execute_reply": "2024-04-13T22:38:25.666574Z",
     "shell.execute_reply.started": "2024-04-13T22:38:25.653500Z"
    },
    "papermill": {
     "duration": null,
     "end_time": null,
     "exception": null,
     "start_time": null,
     "status": "pending"
    },
    "tags": []
   },
   "outputs": [],
   "source": [
    "# Calculate and print the confusion matrix\n",
    "print(confusion_matrix(y_test, ylg_predict))"
   ]
  },
  {
   "cell_type": "code",
   "execution_count": null,
   "id": "89a222bb",
   "metadata": {
    "execution": {
     "iopub.execute_input": "2024-04-13T22:38:25.669635Z",
     "iopub.status.busy": "2024-04-13T22:38:25.669163Z",
     "iopub.status.idle": "2024-04-13T22:38:26.022038Z",
     "shell.execute_reply": "2024-04-13T22:38:26.021026Z",
     "shell.execute_reply.started": "2024-04-13T22:38:25.669602Z"
    },
    "papermill": {
     "duration": null,
     "end_time": null,
     "exception": null,
     "start_time": null,
     "status": "pending"
    },
    "tags": []
   },
   "outputs": [],
   "source": [
    "def confusionM(y_true,  ylg_predict, target_names):\n",
    "    cMatrix = confusion_matrix(y_true, ylg_predict)\n",
    "    df_cm = pd.DataFrame(cMatrix, index=target_names, columns=target_names)\n",
    "    plt.figure(figsize=(6,4))\n",
    "    cm = sns.heatmap(df_cm, annot=True, fmt=\"d\")\n",
    "    cm.yaxis.set_ticklabels(cm.yaxis.get_ticklabels(), rotation=90)\n",
    "    cm.xaxis.set_ticklabels(cm.xaxis.get_ticklabels(), rotation=0)\n",
    "    plt.ylabel('True label')\n",
    "    plt.xlabel('Predicted label')\n",
    "\n",
    "# get the unique class names\n",
    "class_names = resp_patients_data.Diagnosis.unique() \n",
    "\n",
    "# ensure the class_names array matches the actual number of unique classes\n",
    "class_names = class_names[:2]\n",
    "\n",
    "# visualize the confusion matrix\n",
    "confusionM(y_test,  ylg_predict, class_names)"
   ]
  },
  {
   "cell_type": "markdown",
   "id": "a92ce697",
   "metadata": {
    "papermill": {
     "duration": null,
     "end_time": null,
     "exception": null,
     "start_time": null,
     "status": "pending"
    },
    "tags": []
   },
   "source": [
    "# Decision Tree Model"
   ]
  },
  {
   "cell_type": "code",
   "execution_count": null,
   "id": "1e0218cd",
   "metadata": {
    "execution": {
     "iopub.execute_input": "2024-04-13T22:38:26.023678Z",
     "iopub.status.busy": "2024-04-13T22:38:26.023360Z",
     "iopub.status.idle": "2024-04-13T22:38:26.047478Z",
     "shell.execute_reply": "2024-04-13T22:38:26.046096Z",
     "shell.execute_reply.started": "2024-04-13T22:38:26.023649Z"
    },
    "papermill": {
     "duration": null,
     "end_time": null,
     "exception": null,
     "start_time": null,
     "status": "pending"
    },
    "tags": []
   },
   "outputs": [],
   "source": [
    "decision_tree = DecisionTreeClassifier()\n",
    "decision_tree.fit(X_train,y_train)\n",
    "ydt_predict = decision_tree.predict(X_test)\n",
    "accuracy_score(y_test, ydt_predict)"
   ]
  },
  {
   "cell_type": "code",
   "execution_count": null,
   "id": "fea287ae",
   "metadata": {
    "execution": {
     "iopub.execute_input": "2024-04-13T22:38:26.049717Z",
     "iopub.status.busy": "2024-04-13T22:38:26.049226Z",
     "iopub.status.idle": "2024-04-13T22:38:26.118510Z",
     "shell.execute_reply": "2024-04-13T22:38:26.117240Z",
     "shell.execute_reply.started": "2024-04-13T22:38:26.049671Z"
    },
    "papermill": {
     "duration": null,
     "end_time": null,
     "exception": null,
     "start_time": null,
     "status": "pending"
    },
    "tags": []
   },
   "outputs": [],
   "source": [
    "print(classification_report(y_test, ydt_predict))"
   ]
  },
  {
   "cell_type": "code",
   "execution_count": null,
   "id": "2c24642b",
   "metadata": {
    "execution": {
     "iopub.execute_input": "2024-04-13T22:38:26.120219Z",
     "iopub.status.busy": "2024-04-13T22:38:26.119900Z",
     "iopub.status.idle": "2024-04-13T22:38:26.133790Z",
     "shell.execute_reply": "2024-04-13T22:38:26.132573Z",
     "shell.execute_reply.started": "2024-04-13T22:38:26.120191Z"
    },
    "papermill": {
     "duration": null,
     "end_time": null,
     "exception": null,
     "start_time": null,
     "status": "pending"
    },
    "tags": []
   },
   "outputs": [],
   "source": [
    "# Calculate and print the confusion matrix\n",
    "print(confusion_matrix(y_test, ydt_predict))"
   ]
  },
  {
   "cell_type": "code",
   "execution_count": null,
   "id": "e5ec7fea",
   "metadata": {
    "execution": {
     "iopub.execute_input": "2024-04-13T22:38:26.135420Z",
     "iopub.status.busy": "2024-04-13T22:38:26.135108Z",
     "iopub.status.idle": "2024-04-13T22:38:26.483093Z",
     "shell.execute_reply": "2024-04-13T22:38:26.481799Z",
     "shell.execute_reply.started": "2024-04-13T22:38:26.135393Z"
    },
    "papermill": {
     "duration": null,
     "end_time": null,
     "exception": null,
     "start_time": null,
     "status": "pending"
    },
    "tags": []
   },
   "outputs": [],
   "source": [
    "def confusionM(y_true,  ydt_predict, target_names):\n",
    "    cMatrix = confusion_matrix(y_true, ydt_predict)\n",
    "    df_cm = pd.DataFrame(cMatrix, index=target_names, columns=target_names)\n",
    "    plt.figure(figsize=(6,4))\n",
    "    cm = sns.heatmap(df_cm, annot=True, fmt=\"d\")\n",
    "    cm.yaxis.set_ticklabels(cm.yaxis.get_ticklabels(), rotation=90)\n",
    "    cm.xaxis.set_ticklabels(cm.xaxis.get_ticklabels(), rotation=0)\n",
    "    plt.ylabel('True label')\n",
    "    plt.xlabel('Predicted label')\n",
    "\n",
    "# get the unique class names\n",
    "class_names = resp_patients_data.Diagnosis.unique() \n",
    "\n",
    "# ensuring the class_names array matches the actual number of unique classes\n",
    "class_names = class_names[:2]\n",
    "\n",
    "# visualizing the confusion matrix\n",
    "confusionM(y_test,  ydt_predict, class_names)"
   ]
  },
  {
   "cell_type": "markdown",
   "id": "491567ec",
   "metadata": {
    "papermill": {
     "duration": null,
     "end_time": null,
     "exception": null,
     "start_time": null,
     "status": "pending"
    },
    "tags": []
   },
   "source": [
    "# Model Comparison"
   ]
  },
  {
   "cell_type": "code",
   "execution_count": null,
   "id": "bf93a806",
   "metadata": {
    "execution": {
     "iopub.execute_input": "2024-04-13T22:38:26.484672Z",
     "iopub.status.busy": "2024-04-13T22:38:26.484349Z",
     "iopub.status.idle": "2024-04-13T22:38:26.971517Z",
     "shell.execute_reply": "2024-04-13T22:38:26.970411Z",
     "shell.execute_reply.started": "2024-04-13T22:38:26.484644Z"
    },
    "papermill": {
     "duration": null,
     "end_time": null,
     "exception": null,
     "start_time": null,
     "status": "pending"
    },
    "tags": []
   },
   "outputs": [],
   "source": [
    "from sklearn.metrics import accuracy_score, precision_score, recall_score, f1_score\n",
    "\n",
    "positive_label = 'Asthma'  \n",
    "\n",
    "models = [('KNN', nn), ('Random Forest', RandomForest), ('Logistic Regression', logreg), ('Decision Tree', decision_tree)]\n",
    "\n",
    "# Creating dictionaries to store the evaluation results\n",
    "accuracy = {}\n",
    "precision = {}\n",
    "recall = {}\n",
    "f1 = {}\n",
    "\n",
    "for name, model in models:\n",
    "    predictions = model.predict(X_test)\n",
    "    \n",
    "    accuracy[name] = accuracy_score(y_test, predictions)\n",
    "    precision[name] = precision_score(y_test, predictions, pos_label=positive_label)\n",
    "    recall[name] = recall_score(y_test, predictions, pos_label=positive_label)\n",
    "    f1[name] = f1_score(y_test, predictions, pos_label=positive_label)\n",
    "\n",
    "# Printing the evaluation results\n",
    "print('Accuracy:')\n",
    "for name, acc in accuracy.items():\n",
    "    print(f'{name}: {acc}')\n",
    "\n",
    "print('\\nPrecision:')\n",
    "for name, prec in precision.items():\n",
    "    print(f'{name}: {prec}')\n",
    "\n",
    "print('\\nRecall:')\n",
    "for name, rec in recall.items():\n",
    "    print(f'{name}: {rec}')\n",
    "\n",
    "print('\\nF1 Score:')\n",
    "for name, f1_score in f1.items():\n",
    "    print(f'{name}: {f1_score}')"
   ]
  },
  {
   "cell_type": "code",
   "execution_count": null,
   "id": "330f9b8a",
   "metadata": {
    "execution": {
     "iopub.execute_input": "2024-04-13T22:38:26.973606Z",
     "iopub.status.busy": "2024-04-13T22:38:26.973019Z",
     "iopub.status.idle": "2024-04-13T22:38:27.460220Z",
     "shell.execute_reply": "2024-04-13T22:38:27.458983Z",
     "shell.execute_reply.started": "2024-04-13T22:38:26.973573Z"
    },
    "papermill": {
     "duration": null,
     "end_time": null,
     "exception": null,
     "start_time": null,
     "status": "pending"
    },
    "tags": []
   },
   "outputs": [],
   "source": [
    "from sklearn.metrics import accuracy_score, precision_score, recall_score, f1_score\n",
    "\n",
    "positive_label = 'Pneumonia'  # Specify the positive label based on your data\n",
    "\n",
    "models = [('KNN', nn), ('Random Forest', RandomForest), ('Logistic Regression', logreg), ('Decision Tree', decision_tree)]\n",
    "\n",
    "# Create dictionaries to store the evaluation results\n",
    "accuracy = {}\n",
    "precision = {}\n",
    "recall = {}\n",
    "f1 = {}\n",
    "\n",
    "for name, model in models:\n",
    "    predictions = model.predict(X_test)\n",
    "    \n",
    "    accuracy[name] = accuracy_score(y_test, predictions)\n",
    "    precision[name] = precision_score(y_test, predictions, pos_label=positive_label)\n",
    "    recall[name] = recall_score(y_test, predictions, pos_label=positive_label)\n",
    "    f1[name] = f1_score(y_test, predictions, pos_label=positive_label)\n",
    "\n",
    "# Print the evaluation results\n",
    "print('Accuracy:')\n",
    "for name, acc in accuracy.items():\n",
    "    print(f'{name}: {acc}')\n",
    "\n",
    "print('\\nPrecision:')\n",
    "for name, prec in precision.items():\n",
    "    print(f'{name}: {prec}')\n",
    "\n",
    "print('\\nRecall:')\n",
    "for name, rec in recall.items():\n",
    "    print(f'{name}: {rec}')\n",
    "\n",
    "print('\\nF1 Score:')\n",
    "for name, f1_score in f1.items():\n",
    "    print(f'{name}: {f1_score}')"
   ]
  },
  {
   "cell_type": "code",
   "execution_count": null,
   "id": "e7bb5585",
   "metadata": {
    "papermill": {
     "duration": null,
     "end_time": null,
     "exception": null,
     "start_time": null,
     "status": "pending"
    },
    "tags": []
   },
   "outputs": [],
   "source": []
  },
  {
   "cell_type": "code",
   "execution_count": null,
   "id": "b69603f6",
   "metadata": {
    "papermill": {
     "duration": null,
     "end_time": null,
     "exception": null,
     "start_time": null,
     "status": "pending"
    },
    "tags": []
   },
   "outputs": [],
   "source": []
  },
  {
   "cell_type": "code",
   "execution_count": null,
   "id": "a34cc5e9",
   "metadata": {
    "papermill": {
     "duration": null,
     "end_time": null,
     "exception": null,
     "start_time": null,
     "status": "pending"
    },
    "tags": []
   },
   "outputs": [],
   "source": []
  }
 ],
 "metadata": {
  "kaggle": {
   "accelerator": "none",
   "dataSources": [
    {
     "datasetId": 3580638,
     "sourceId": 6233091,
     "sourceType": "datasetVersion"
    }
   ],
   "dockerImageVersionId": 30527,
   "isGpuEnabled": false,
   "isInternetEnabled": true,
   "language": "python",
   "sourceType": "notebook"
  },
  "kernelspec": {
   "display_name": "Python 3",
   "language": "python",
   "name": "python3"
  },
  "language_info": {
   "codemirror_mode": {
    "name": "ipython",
    "version": 3
   },
   "file_extension": ".py",
   "mimetype": "text/x-python",
   "name": "python",
   "nbconvert_exporter": "python",
   "pygments_lexer": "ipython3",
   "version": "3.10.12"
  },
  "papermill": {
   "default_parameters": {},
   "duration": 21.357757,
   "end_time": "2025-07-17T00:05:01.984227",
   "environment_variables": {},
   "exception": true,
   "input_path": "__notebook__.ipynb",
   "output_path": "__notebook__.ipynb",
   "parameters": {},
   "start_time": "2025-07-17T00:04:40.626470",
   "version": "2.4.0"
  }
 },
 "nbformat": 4,
 "nbformat_minor": 5
}
